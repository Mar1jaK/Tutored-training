{
 "cells": [
  {
   "cell_type": "markdown",
   "metadata": {
    "toc": true
   },
   "source": [
    "<h1>Содержание<span class=\"tocSkip\"></span></h1>\n",
    "<div class=\"toc\"><ul class=\"toc-item\"><li><span><a href=\"#Подготовка-данных\" data-toc-modified-id=\"Подготовка-данных-1\"><span class=\"toc-item-num\">1&nbsp;&nbsp;</span>Подготовка данных</a></span></li><li><span><a href=\"#Исследование-задачи\" data-toc-modified-id=\"Исследование-задачи-2\"><span class=\"toc-item-num\">2&nbsp;&nbsp;</span>Исследование задачи</a></span></li><li><span><a href=\"#Борьба-с-дисбалансом\" data-toc-modified-id=\"Борьба-с-дисбалансом-3\"><span class=\"toc-item-num\">3&nbsp;&nbsp;</span>Борьба с дисбалансом</a></span></li><li><span><a href=\"#Тестирование-модели\" data-toc-modified-id=\"Тестирование-модели-4\"><span class=\"toc-item-num\">4&nbsp;&nbsp;</span>Тестирование модели</a></span></li></ul></div>"
   ]
  },
  {
   "cell_type": "markdown",
   "metadata": {},
   "source": [
    "## Подготовка данных"
   ]
  },
  {
   "cell_type": "code",
   "execution_count": 1,
   "metadata": {},
   "outputs": [
    {
     "name": "stdout",
     "output_type": "stream",
     "text": [
      "<class 'pandas.core.frame.DataFrame'>\n",
      "RangeIndex: 10000 entries, 0 to 9999\n",
      "Data columns (total 14 columns):\n",
      " #   Column           Non-Null Count  Dtype  \n",
      "---  ------           --------------  -----  \n",
      " 0   RowNumber        10000 non-null  int64  \n",
      " 1   CustomerId       10000 non-null  int64  \n",
      " 2   Surname          10000 non-null  object \n",
      " 3   CreditScore      10000 non-null  int64  \n",
      " 4   Geography        10000 non-null  object \n",
      " 5   Gender           10000 non-null  object \n",
      " 6   Age              10000 non-null  int64  \n",
      " 7   Tenure           9091 non-null   float64\n",
      " 8   Balance          10000 non-null  float64\n",
      " 9   NumOfProducts    10000 non-null  int64  \n",
      " 10  HasCrCard        10000 non-null  int64  \n",
      " 11  IsActiveMember   10000 non-null  int64  \n",
      " 12  EstimatedSalary  10000 non-null  float64\n",
      " 13  Exited           10000 non-null  int64  \n",
      "dtypes: float64(3), int64(8), object(3)\n",
      "memory usage: 1.1+ MB\n"
     ]
    },
    {
     "data": {
      "text/plain": [
       "None"
      ]
     },
     "metadata": {},
     "output_type": "display_data"
    }
   ],
   "source": [
    "import pandas as pd\n",
    "from sklearn.model_selection import train_test_split\n",
    "from sklearn.tree import DecisionTreeClassifier\n",
    "from sklearn.ensemble import RandomForestClassifier\n",
    "from sklearn.preprocessing import StandardScaler\n",
    "from sklearn.metrics import f1_score, accuracy_score, precision_score, recall_score, roc_auc_score\n",
    "from sklearn.utils import shuffle\n",
    "\n",
    "data = pd.read_csv('/datasets/Churn.csv')\n",
    "\n",
    "# Просмотр информации о датафрейме\n",
    "display(data.info())"
   ]
  },
  {
   "cell_type": "code",
   "execution_count": 2,
   "metadata": {},
   "outputs": [
    {
     "name": "stdout",
     "output_type": "stream",
     "text": [
      "RowNumber            0\n",
      "CustomerId           0\n",
      "Surname              0\n",
      "CreditScore          0\n",
      "Geography            0\n",
      "Gender               0\n",
      "Age                  0\n",
      "Tenure             909\n",
      "Balance              0\n",
      "NumOfProducts        0\n",
      "HasCrCard            0\n",
      "IsActiveMember       0\n",
      "EstimatedSalary      0\n",
      "Exited               0\n",
      "dtype: int64\n"
     ]
    }
   ],
   "source": [
    "# Просмотр пропущенных значений\n",
    "print(data.isnull().sum())"
   ]
  },
  {
   "cell_type": "code",
   "execution_count": 3,
   "metadata": {},
   "outputs": [
    {
     "data": {
      "text/html": [
       "<div>\n",
       "<style scoped>\n",
       "    .dataframe tbody tr th:only-of-type {\n",
       "        vertical-align: middle;\n",
       "    }\n",
       "\n",
       "    .dataframe tbody tr th {\n",
       "        vertical-align: top;\n",
       "    }\n",
       "\n",
       "    .dataframe thead th {\n",
       "        text-align: right;\n",
       "    }\n",
       "</style>\n",
       "<table border=\"1\" class=\"dataframe\">\n",
       "  <thead>\n",
       "    <tr style=\"text-align: right;\">\n",
       "      <th></th>\n",
       "      <th>RowNumber</th>\n",
       "      <th>CustomerId</th>\n",
       "      <th>Surname</th>\n",
       "      <th>CreditScore</th>\n",
       "      <th>Geography</th>\n",
       "      <th>Gender</th>\n",
       "      <th>Age</th>\n",
       "      <th>Tenure</th>\n",
       "      <th>Balance</th>\n",
       "      <th>NumOfProducts</th>\n",
       "      <th>HasCrCard</th>\n",
       "      <th>IsActiveMember</th>\n",
       "      <th>EstimatedSalary</th>\n",
       "      <th>Exited</th>\n",
       "    </tr>\n",
       "  </thead>\n",
       "  <tbody>\n",
       "    <tr>\n",
       "      <th>0</th>\n",
       "      <td>1</td>\n",
       "      <td>15634602</td>\n",
       "      <td>Hargrave</td>\n",
       "      <td>619</td>\n",
       "      <td>France</td>\n",
       "      <td>Female</td>\n",
       "      <td>42</td>\n",
       "      <td>2.0</td>\n",
       "      <td>0.00</td>\n",
       "      <td>1</td>\n",
       "      <td>1</td>\n",
       "      <td>1</td>\n",
       "      <td>101348.88</td>\n",
       "      <td>1</td>\n",
       "    </tr>\n",
       "    <tr>\n",
       "      <th>1</th>\n",
       "      <td>2</td>\n",
       "      <td>15647311</td>\n",
       "      <td>Hill</td>\n",
       "      <td>608</td>\n",
       "      <td>Spain</td>\n",
       "      <td>Female</td>\n",
       "      <td>41</td>\n",
       "      <td>1.0</td>\n",
       "      <td>83807.86</td>\n",
       "      <td>1</td>\n",
       "      <td>0</td>\n",
       "      <td>1</td>\n",
       "      <td>112542.58</td>\n",
       "      <td>0</td>\n",
       "    </tr>\n",
       "    <tr>\n",
       "      <th>2</th>\n",
       "      <td>3</td>\n",
       "      <td>15619304</td>\n",
       "      <td>Onio</td>\n",
       "      <td>502</td>\n",
       "      <td>France</td>\n",
       "      <td>Female</td>\n",
       "      <td>42</td>\n",
       "      <td>8.0</td>\n",
       "      <td>159660.80</td>\n",
       "      <td>3</td>\n",
       "      <td>1</td>\n",
       "      <td>0</td>\n",
       "      <td>113931.57</td>\n",
       "      <td>1</td>\n",
       "    </tr>\n",
       "    <tr>\n",
       "      <th>3</th>\n",
       "      <td>4</td>\n",
       "      <td>15701354</td>\n",
       "      <td>Boni</td>\n",
       "      <td>699</td>\n",
       "      <td>France</td>\n",
       "      <td>Female</td>\n",
       "      <td>39</td>\n",
       "      <td>1.0</td>\n",
       "      <td>0.00</td>\n",
       "      <td>2</td>\n",
       "      <td>0</td>\n",
       "      <td>0</td>\n",
       "      <td>93826.63</td>\n",
       "      <td>0</td>\n",
       "    </tr>\n",
       "    <tr>\n",
       "      <th>4</th>\n",
       "      <td>5</td>\n",
       "      <td>15737888</td>\n",
       "      <td>Mitchell</td>\n",
       "      <td>850</td>\n",
       "      <td>Spain</td>\n",
       "      <td>Female</td>\n",
       "      <td>43</td>\n",
       "      <td>2.0</td>\n",
       "      <td>125510.82</td>\n",
       "      <td>1</td>\n",
       "      <td>1</td>\n",
       "      <td>1</td>\n",
       "      <td>79084.10</td>\n",
       "      <td>0</td>\n",
       "    </tr>\n",
       "    <tr>\n",
       "      <th>5</th>\n",
       "      <td>6</td>\n",
       "      <td>15574012</td>\n",
       "      <td>Chu</td>\n",
       "      <td>645</td>\n",
       "      <td>Spain</td>\n",
       "      <td>Male</td>\n",
       "      <td>44</td>\n",
       "      <td>8.0</td>\n",
       "      <td>113755.78</td>\n",
       "      <td>2</td>\n",
       "      <td>1</td>\n",
       "      <td>0</td>\n",
       "      <td>149756.71</td>\n",
       "      <td>1</td>\n",
       "    </tr>\n",
       "    <tr>\n",
       "      <th>6</th>\n",
       "      <td>7</td>\n",
       "      <td>15592531</td>\n",
       "      <td>Bartlett</td>\n",
       "      <td>822</td>\n",
       "      <td>France</td>\n",
       "      <td>Male</td>\n",
       "      <td>50</td>\n",
       "      <td>7.0</td>\n",
       "      <td>0.00</td>\n",
       "      <td>2</td>\n",
       "      <td>1</td>\n",
       "      <td>1</td>\n",
       "      <td>10062.80</td>\n",
       "      <td>0</td>\n",
       "    </tr>\n",
       "    <tr>\n",
       "      <th>7</th>\n",
       "      <td>8</td>\n",
       "      <td>15656148</td>\n",
       "      <td>Obinna</td>\n",
       "      <td>376</td>\n",
       "      <td>Germany</td>\n",
       "      <td>Female</td>\n",
       "      <td>29</td>\n",
       "      <td>4.0</td>\n",
       "      <td>115046.74</td>\n",
       "      <td>4</td>\n",
       "      <td>1</td>\n",
       "      <td>0</td>\n",
       "      <td>119346.88</td>\n",
       "      <td>1</td>\n",
       "    </tr>\n",
       "    <tr>\n",
       "      <th>8</th>\n",
       "      <td>9</td>\n",
       "      <td>15792365</td>\n",
       "      <td>He</td>\n",
       "      <td>501</td>\n",
       "      <td>France</td>\n",
       "      <td>Male</td>\n",
       "      <td>44</td>\n",
       "      <td>4.0</td>\n",
       "      <td>142051.07</td>\n",
       "      <td>2</td>\n",
       "      <td>0</td>\n",
       "      <td>1</td>\n",
       "      <td>74940.50</td>\n",
       "      <td>0</td>\n",
       "    </tr>\n",
       "    <tr>\n",
       "      <th>9</th>\n",
       "      <td>10</td>\n",
       "      <td>15592389</td>\n",
       "      <td>H?</td>\n",
       "      <td>684</td>\n",
       "      <td>France</td>\n",
       "      <td>Male</td>\n",
       "      <td>27</td>\n",
       "      <td>2.0</td>\n",
       "      <td>134603.88</td>\n",
       "      <td>1</td>\n",
       "      <td>1</td>\n",
       "      <td>1</td>\n",
       "      <td>71725.73</td>\n",
       "      <td>0</td>\n",
       "    </tr>\n",
       "  </tbody>\n",
       "</table>\n",
       "</div>"
      ],
      "text/plain": [
       "   RowNumber  CustomerId   Surname  CreditScore Geography  Gender  Age  \\\n",
       "0          1    15634602  Hargrave          619    France  Female   42   \n",
       "1          2    15647311      Hill          608     Spain  Female   41   \n",
       "2          3    15619304      Onio          502    France  Female   42   \n",
       "3          4    15701354      Boni          699    France  Female   39   \n",
       "4          5    15737888  Mitchell          850     Spain  Female   43   \n",
       "5          6    15574012       Chu          645     Spain    Male   44   \n",
       "6          7    15592531  Bartlett          822    France    Male   50   \n",
       "7          8    15656148    Obinna          376   Germany  Female   29   \n",
       "8          9    15792365        He          501    France    Male   44   \n",
       "9         10    15592389        H?          684    France    Male   27   \n",
       "\n",
       "   Tenure    Balance  NumOfProducts  HasCrCard  IsActiveMember  \\\n",
       "0     2.0       0.00              1          1               1   \n",
       "1     1.0   83807.86              1          0               1   \n",
       "2     8.0  159660.80              3          1               0   \n",
       "3     1.0       0.00              2          0               0   \n",
       "4     2.0  125510.82              1          1               1   \n",
       "5     8.0  113755.78              2          1               0   \n",
       "6     7.0       0.00              2          1               1   \n",
       "7     4.0  115046.74              4          1               0   \n",
       "8     4.0  142051.07              2          0               1   \n",
       "9     2.0  134603.88              1          1               1   \n",
       "\n",
       "   EstimatedSalary  Exited  \n",
       "0        101348.88       1  \n",
       "1        112542.58       0  \n",
       "2        113931.57       1  \n",
       "3         93826.63       0  \n",
       "4         79084.10       0  \n",
       "5        149756.71       1  \n",
       "6         10062.80       0  \n",
       "7        119346.88       1  \n",
       "8         74940.50       0  \n",
       "9         71725.73       0  "
      ]
     },
     "metadata": {},
     "output_type": "display_data"
    }
   ],
   "source": [
    "# Просмотр первых 10 строк таблицы (датафрейма)\n",
    "display(data.head(10))"
   ]
  },
  {
   "cell_type": "code",
   "execution_count": 4,
   "metadata": {},
   "outputs": [
    {
     "data": {
      "text/html": [
       "<div>\n",
       "<style scoped>\n",
       "    .dataframe tbody tr th:only-of-type {\n",
       "        vertical-align: middle;\n",
       "    }\n",
       "\n",
       "    .dataframe tbody tr th {\n",
       "        vertical-align: top;\n",
       "    }\n",
       "\n",
       "    .dataframe thead th {\n",
       "        text-align: right;\n",
       "    }\n",
       "</style>\n",
       "<table border=\"1\" class=\"dataframe\">\n",
       "  <thead>\n",
       "    <tr style=\"text-align: right;\">\n",
       "      <th></th>\n",
       "      <th>RowNumber</th>\n",
       "      <th>CustomerId</th>\n",
       "      <th>Surname</th>\n",
       "      <th>CreditScore</th>\n",
       "      <th>Geography</th>\n",
       "      <th>Gender</th>\n",
       "      <th>Age</th>\n",
       "      <th>Tenure</th>\n",
       "      <th>Balance</th>\n",
       "      <th>NumOfProducts</th>\n",
       "      <th>HasCrCard</th>\n",
       "      <th>IsActiveMember</th>\n",
       "      <th>EstimatedSalary</th>\n",
       "      <th>Exited</th>\n",
       "    </tr>\n",
       "  </thead>\n",
       "  <tbody>\n",
       "    <tr>\n",
       "      <th>3423</th>\n",
       "      <td>3424</td>\n",
       "      <td>15660147</td>\n",
       "      <td>Dore</td>\n",
       "      <td>493</td>\n",
       "      <td>Spain</td>\n",
       "      <td>Male</td>\n",
       "      <td>32</td>\n",
       "      <td>NaN</td>\n",
       "      <td>46161.18</td>\n",
       "      <td>1</td>\n",
       "      <td>1</td>\n",
       "      <td>1</td>\n",
       "      <td>79577.4</td>\n",
       "      <td>0</td>\n",
       "    </tr>\n",
       "  </tbody>\n",
       "</table>\n",
       "</div>"
      ],
      "text/plain": [
       "      RowNumber  CustomerId Surname  CreditScore Geography Gender  Age  \\\n",
       "3423       3424    15660147    Dore          493     Spain   Male   32   \n",
       "\n",
       "      Tenure   Balance  NumOfProducts  HasCrCard  IsActiveMember  \\\n",
       "3423     NaN  46161.18              1          1               1   \n",
       "\n",
       "      EstimatedSalary  Exited  \n",
       "3423          79577.4       0  "
      ]
     },
     "metadata": {},
     "output_type": "display_data"
    }
   ],
   "source": [
    "# Просмотр случайной выборки из таблицы (датафрейма)\n",
    "display(data.sample())"
   ]
  },
  {
   "cell_type": "code",
   "execution_count": 5,
   "metadata": {},
   "outputs": [
    {
     "data": {
      "text/html": [
       "<div>\n",
       "<style scoped>\n",
       "    .dataframe tbody tr th:only-of-type {\n",
       "        vertical-align: middle;\n",
       "    }\n",
       "\n",
       "    .dataframe tbody tr th {\n",
       "        vertical-align: top;\n",
       "    }\n",
       "\n",
       "    .dataframe thead th {\n",
       "        text-align: right;\n",
       "    }\n",
       "</style>\n",
       "<table border=\"1\" class=\"dataframe\">\n",
       "  <thead>\n",
       "    <tr style=\"text-align: right;\">\n",
       "      <th></th>\n",
       "      <th>RowNumber</th>\n",
       "      <th>CustomerId</th>\n",
       "      <th>Surname</th>\n",
       "      <th>CreditScore</th>\n",
       "      <th>Geography</th>\n",
       "      <th>Gender</th>\n",
       "      <th>Age</th>\n",
       "      <th>Tenure</th>\n",
       "      <th>Balance</th>\n",
       "      <th>NumOfProducts</th>\n",
       "      <th>HasCrCard</th>\n",
       "      <th>IsActiveMember</th>\n",
       "      <th>EstimatedSalary</th>\n",
       "      <th>Exited</th>\n",
       "    </tr>\n",
       "  </thead>\n",
       "  <tbody>\n",
       "    <tr>\n",
       "      <th>9990</th>\n",
       "      <td>9991</td>\n",
       "      <td>15798964</td>\n",
       "      <td>Nkemakonam</td>\n",
       "      <td>714</td>\n",
       "      <td>Germany</td>\n",
       "      <td>Male</td>\n",
       "      <td>33</td>\n",
       "      <td>3.0</td>\n",
       "      <td>35016.60</td>\n",
       "      <td>1</td>\n",
       "      <td>1</td>\n",
       "      <td>0</td>\n",
       "      <td>53667.08</td>\n",
       "      <td>0</td>\n",
       "    </tr>\n",
       "    <tr>\n",
       "      <th>9991</th>\n",
       "      <td>9992</td>\n",
       "      <td>15769959</td>\n",
       "      <td>Ajuluchukwu</td>\n",
       "      <td>597</td>\n",
       "      <td>France</td>\n",
       "      <td>Female</td>\n",
       "      <td>53</td>\n",
       "      <td>4.0</td>\n",
       "      <td>88381.21</td>\n",
       "      <td>1</td>\n",
       "      <td>1</td>\n",
       "      <td>0</td>\n",
       "      <td>69384.71</td>\n",
       "      <td>1</td>\n",
       "    </tr>\n",
       "    <tr>\n",
       "      <th>9992</th>\n",
       "      <td>9993</td>\n",
       "      <td>15657105</td>\n",
       "      <td>Chukwualuka</td>\n",
       "      <td>726</td>\n",
       "      <td>Spain</td>\n",
       "      <td>Male</td>\n",
       "      <td>36</td>\n",
       "      <td>2.0</td>\n",
       "      <td>0.00</td>\n",
       "      <td>1</td>\n",
       "      <td>1</td>\n",
       "      <td>0</td>\n",
       "      <td>195192.40</td>\n",
       "      <td>0</td>\n",
       "    </tr>\n",
       "    <tr>\n",
       "      <th>9993</th>\n",
       "      <td>9994</td>\n",
       "      <td>15569266</td>\n",
       "      <td>Rahman</td>\n",
       "      <td>644</td>\n",
       "      <td>France</td>\n",
       "      <td>Male</td>\n",
       "      <td>28</td>\n",
       "      <td>7.0</td>\n",
       "      <td>155060.41</td>\n",
       "      <td>1</td>\n",
       "      <td>1</td>\n",
       "      <td>0</td>\n",
       "      <td>29179.52</td>\n",
       "      <td>0</td>\n",
       "    </tr>\n",
       "    <tr>\n",
       "      <th>9994</th>\n",
       "      <td>9995</td>\n",
       "      <td>15719294</td>\n",
       "      <td>Wood</td>\n",
       "      <td>800</td>\n",
       "      <td>France</td>\n",
       "      <td>Female</td>\n",
       "      <td>29</td>\n",
       "      <td>2.0</td>\n",
       "      <td>0.00</td>\n",
       "      <td>2</td>\n",
       "      <td>0</td>\n",
       "      <td>0</td>\n",
       "      <td>167773.55</td>\n",
       "      <td>0</td>\n",
       "    </tr>\n",
       "    <tr>\n",
       "      <th>9995</th>\n",
       "      <td>9996</td>\n",
       "      <td>15606229</td>\n",
       "      <td>Obijiaku</td>\n",
       "      <td>771</td>\n",
       "      <td>France</td>\n",
       "      <td>Male</td>\n",
       "      <td>39</td>\n",
       "      <td>5.0</td>\n",
       "      <td>0.00</td>\n",
       "      <td>2</td>\n",
       "      <td>1</td>\n",
       "      <td>0</td>\n",
       "      <td>96270.64</td>\n",
       "      <td>0</td>\n",
       "    </tr>\n",
       "    <tr>\n",
       "      <th>9996</th>\n",
       "      <td>9997</td>\n",
       "      <td>15569892</td>\n",
       "      <td>Johnstone</td>\n",
       "      <td>516</td>\n",
       "      <td>France</td>\n",
       "      <td>Male</td>\n",
       "      <td>35</td>\n",
       "      <td>10.0</td>\n",
       "      <td>57369.61</td>\n",
       "      <td>1</td>\n",
       "      <td>1</td>\n",
       "      <td>1</td>\n",
       "      <td>101699.77</td>\n",
       "      <td>0</td>\n",
       "    </tr>\n",
       "    <tr>\n",
       "      <th>9997</th>\n",
       "      <td>9998</td>\n",
       "      <td>15584532</td>\n",
       "      <td>Liu</td>\n",
       "      <td>709</td>\n",
       "      <td>France</td>\n",
       "      <td>Female</td>\n",
       "      <td>36</td>\n",
       "      <td>7.0</td>\n",
       "      <td>0.00</td>\n",
       "      <td>1</td>\n",
       "      <td>0</td>\n",
       "      <td>1</td>\n",
       "      <td>42085.58</td>\n",
       "      <td>1</td>\n",
       "    </tr>\n",
       "    <tr>\n",
       "      <th>9998</th>\n",
       "      <td>9999</td>\n",
       "      <td>15682355</td>\n",
       "      <td>Sabbatini</td>\n",
       "      <td>772</td>\n",
       "      <td>Germany</td>\n",
       "      <td>Male</td>\n",
       "      <td>42</td>\n",
       "      <td>3.0</td>\n",
       "      <td>75075.31</td>\n",
       "      <td>2</td>\n",
       "      <td>1</td>\n",
       "      <td>0</td>\n",
       "      <td>92888.52</td>\n",
       "      <td>1</td>\n",
       "    </tr>\n",
       "    <tr>\n",
       "      <th>9999</th>\n",
       "      <td>10000</td>\n",
       "      <td>15628319</td>\n",
       "      <td>Walker</td>\n",
       "      <td>792</td>\n",
       "      <td>France</td>\n",
       "      <td>Female</td>\n",
       "      <td>28</td>\n",
       "      <td>NaN</td>\n",
       "      <td>130142.79</td>\n",
       "      <td>1</td>\n",
       "      <td>1</td>\n",
       "      <td>0</td>\n",
       "      <td>38190.78</td>\n",
       "      <td>0</td>\n",
       "    </tr>\n",
       "  </tbody>\n",
       "</table>\n",
       "</div>"
      ],
      "text/plain": [
       "      RowNumber  CustomerId      Surname  CreditScore Geography  Gender  Age  \\\n",
       "9990       9991    15798964   Nkemakonam          714   Germany    Male   33   \n",
       "9991       9992    15769959  Ajuluchukwu          597    France  Female   53   \n",
       "9992       9993    15657105  Chukwualuka          726     Spain    Male   36   \n",
       "9993       9994    15569266       Rahman          644    France    Male   28   \n",
       "9994       9995    15719294         Wood          800    France  Female   29   \n",
       "9995       9996    15606229     Obijiaku          771    France    Male   39   \n",
       "9996       9997    15569892    Johnstone          516    France    Male   35   \n",
       "9997       9998    15584532          Liu          709    France  Female   36   \n",
       "9998       9999    15682355    Sabbatini          772   Germany    Male   42   \n",
       "9999      10000    15628319       Walker          792    France  Female   28   \n",
       "\n",
       "      Tenure    Balance  NumOfProducts  HasCrCard  IsActiveMember  \\\n",
       "9990     3.0   35016.60              1          1               0   \n",
       "9991     4.0   88381.21              1          1               0   \n",
       "9992     2.0       0.00              1          1               0   \n",
       "9993     7.0  155060.41              1          1               0   \n",
       "9994     2.0       0.00              2          0               0   \n",
       "9995     5.0       0.00              2          1               0   \n",
       "9996    10.0   57369.61              1          1               1   \n",
       "9997     7.0       0.00              1          0               1   \n",
       "9998     3.0   75075.31              2          1               0   \n",
       "9999     NaN  130142.79              1          1               0   \n",
       "\n",
       "      EstimatedSalary  Exited  \n",
       "9990         53667.08       0  \n",
       "9991         69384.71       1  \n",
       "9992        195192.40       0  \n",
       "9993         29179.52       0  \n",
       "9994        167773.55       0  \n",
       "9995         96270.64       0  \n",
       "9996        101699.77       0  \n",
       "9997         42085.58       1  \n",
       "9998         92888.52       1  \n",
       "9999         38190.78       0  "
      ]
     },
     "metadata": {},
     "output_type": "display_data"
    }
   ],
   "source": [
    "# Просмотр последних 10 строк таблицы (датафрейма)\n",
    "display(data.tail(10))"
   ]
  },
  {
   "cell_type": "code",
   "execution_count": 6,
   "metadata": {
    "scrolled": false
   },
   "outputs": [
    {
     "name": "stdout",
     "output_type": "stream",
     "text": [
      "Кредитный рейтинг (CreditScore), min/max: 350 / 850\n",
      "Пол (Gender), уникальные значения: ['Female', 'Male']\n",
      "Возраст (Age), уникальные значения: [18, 19, 20, 21, 22, 23, 24, 25, 26, 27, 28, 29, 30, 31, 32, 33, 34, 35, 36, 37, 38, 39, 40, 41, 42, 43, 44, 45, 46, 47, 48, 49, 50, 51, 52, 53, 54, 55, 56, 57, 58, 59, 60, 61, 62, 63, 64, 65, 66, 67, 68, 69, 70, 71, 72, 73, 74, 75, 76, 77, 78, 79, 80, 81, 82, 83, 84, 85, 88, 92]\n",
      "Возраст (Age), min/max: 18 / 92\n",
      "Страна проживания (Geography), уникальные значения: ['France', 'Germany', 'Spain']\n",
      "Сколько лет человек является клиентом банка (Tenure), min/max: 0.0 / 10.0\n",
      "Сколько лет человек является клиентом банка (Tenure), уникальные значения: [0.0, 1.0, 2.0, 3.0, 4.0, 5.0, 6.0, 7.0, 8.0, 9.0, 10.0, nan]\n",
      "Баланс на счёте (Balance), min/max: 0.0 / 250898.09\n",
      "Количество продуктов банка, используемых клиентом (NumOfProducts), уникальные значения: [1, 2, 3, 4]\n",
      "Наличие кредитной карты (HasCrCard), уникальные значения: [0, 1]\n",
      "Активность клиента (IsActiveMember), уникальные значения: [0, 1]\n",
      "Предполагаемая зарплата (EstimatedSalary), min/max: 11.58 / 199992.48\n",
      "Факт ухода клиента (Exited), уникальные значения: [0, 1]\n",
      "Количество явных дубликатов: 0\n",
      "Количество записей в RowNumber: 10000\n",
      "Количество уникальных значений RowNumber: 10000\n",
      "Количество записей в CustomerId: 10000\n",
      "Количество уникальных значений CustomerId: 10000\n"
     ]
    }
   ],
   "source": [
    "# Просмотр максимальных и минимальных, а также уникальных значений в некоторых столбцах таблицы\n",
    "# Максимальный и минимальный кредитного рейтинга \n",
    "print('Кредитный рейтинг (CreditScore), min/max:', data['CreditScore'].min(), '/', data['CreditScore'].max())\n",
    "\n",
    "# Уникальные значения пола\n",
    "print('Пол (Gender), уникальные значения:', sorted(data['Gender'].unique()))\n",
    "\n",
    "# Уникальные значения возраста\n",
    "print('Возраст (Age), уникальные значения:', sorted(data['Age'].unique()))\n",
    "# Максимальный и минимальный возраст \n",
    "print('Возраст (Age), min/max:', data['Age'].min(), '/', data['Age'].max())\n",
    "\n",
    "# Уникальные значения страны проживания\n",
    "print('Страна проживания (Geography), уникальные значения:', sorted(data['Geography'].unique()))\n",
    "\n",
    "# Максимальное и минимальное количество лет сколько человек является клиентом банка \n",
    "print('Сколько лет человек является клиентом банка (Tenure), min/max:', data['Tenure'].min(), '/', data['Tenure'].max())\n",
    "# Уникальные значения количества лет сколько человек является клиентом банка \n",
    "print('Сколько лет человек является клиентом банка (Tenure), уникальные значения:', sorted(data['Tenure'].unique()))\n",
    "\n",
    "# Максимальный и минимальный баланс на счёте \n",
    "print('Баланс на счёте (Balance), min/max:', data['Balance'].min(), '/', data['Balance'].max())\n",
    "\n",
    "# Уникальные значения количества продуктов банка, используемых клиентом\n",
    "print('Количество продуктов банка, используемых клиентом (NumOfProducts), уникальные значения:', sorted(data['NumOfProducts'].unique()))\n",
    "\n",
    "# Уникальные значения признака наличия кредитной карты\n",
    "print('Наличие кредитной карты (HasCrCard), уникальные значения:', sorted(data['HasCrCard'].unique()))\n",
    "\n",
    "# Уникальные значения признака активности клиента\n",
    "print('Активность клиента (IsActiveMember), уникальные значения:', sorted(data['IsActiveMember'].unique()))\n",
    "\n",
    "# Максимальная и минимальная предполагаемая зарплата\n",
    "print('Предполагаемая зарплата (EstimatedSalary), min/max:', data['EstimatedSalary'].min(), '/', data['EstimatedSalary'].max())\n",
    "\n",
    "# Уникальные значения признака факт ухода клиента\n",
    "print('Факт ухода клиента (Exited), уникальные значения:', sorted(data['Exited'].unique()))\n",
    "\n",
    "# Проверка количества дубликатов в таблице (датафрейме)\n",
    "print('Количество явных дубликатов:', data.duplicated().sum())\n",
    "\n",
    "# Проверка на неявные дубликаты\n",
    "# если дубликатов нет, то количство уникальных значений совпадает с количеством записей в столбце\n",
    "print(f'Количество записей в RowNumber: {data[\"RowNumber\"].count()}')\n",
    "print(f'Количество уникальных значений RowNumber: {len(sorted(data[\"RowNumber\"].unique()))}')\n",
    "print(f'Количество записей в CustomerId: {data[\"CustomerId\"].count()}')\n",
    "print(f'Количество уникальных значений CustomerId: {data[\"CustomerId\"].unique().shape[0]}')"
   ]
  },
  {
   "cell_type": "code",
   "execution_count": 7,
   "metadata": {},
   "outputs": [
    {
     "data": {
      "text/html": [
       "<div>\n",
       "<style scoped>\n",
       "    .dataframe tbody tr th:only-of-type {\n",
       "        vertical-align: middle;\n",
       "    }\n",
       "\n",
       "    .dataframe tbody tr th {\n",
       "        vertical-align: top;\n",
       "    }\n",
       "\n",
       "    .dataframe thead th {\n",
       "        text-align: right;\n",
       "    }\n",
       "</style>\n",
       "<table border=\"1\" class=\"dataframe\">\n",
       "  <thead>\n",
       "    <tr style=\"text-align: right;\">\n",
       "      <th></th>\n",
       "      <th>CreditScore</th>\n",
       "      <th>Geography</th>\n",
       "      <th>Gender</th>\n",
       "      <th>Age</th>\n",
       "      <th>Tenure</th>\n",
       "      <th>Balance</th>\n",
       "      <th>NumOfProducts</th>\n",
       "      <th>HasCrCard</th>\n",
       "      <th>IsActiveMember</th>\n",
       "      <th>EstimatedSalary</th>\n",
       "      <th>Exited</th>\n",
       "    </tr>\n",
       "  </thead>\n",
       "  <tbody>\n",
       "    <tr>\n",
       "      <th>6805</th>\n",
       "      <td>614</td>\n",
       "      <td>France</td>\n",
       "      <td>Female</td>\n",
       "      <td>35</td>\n",
       "      <td>1.0</td>\n",
       "      <td>0.0</td>\n",
       "      <td>2</td>\n",
       "      <td>1</td>\n",
       "      <td>1</td>\n",
       "      <td>3342.62</td>\n",
       "      <td>0</td>\n",
       "    </tr>\n",
       "  </tbody>\n",
       "</table>\n",
       "</div>"
      ],
      "text/plain": [
       "      CreditScore Geography  Gender  Age  Tenure  Balance  NumOfProducts  \\\n",
       "6805          614    France  Female   35     1.0      0.0              2   \n",
       "\n",
       "      HasCrCard  IsActiveMember  EstimatedSalary  Exited  \n",
       "6805          1               1          3342.62       0  "
      ]
     },
     "metadata": {},
     "output_type": "display_data"
    }
   ],
   "source": [
    "# Удалим столбцы, которые не понадобятся для обучения\n",
    "data = data.drop(['RowNumber','CustomerId', 'Surname'], axis=1)\n",
    "display(data.sample())"
   ]
  },
  {
   "cell_type": "code",
   "execution_count": 8,
   "metadata": {},
   "outputs": [
    {
     "name": "stdout",
     "output_type": "stream",
     "text": [
      "Размер обучающей выборки: (6000, 11)\n",
      "Размер валидационной выборки: (2000, 11)\n",
      "Размер тестовой выборки: (2000, 11)\n"
     ]
    },
    {
     "name": "stderr",
     "output_type": "stream",
     "text": [
      "/tmp/ipykernel_107/1399591368.py:37: SettingWithCopyWarning: \n",
      "A value is trying to be set on a copy of a slice from a DataFrame.\n",
      "Try using .loc[row_indexer,col_indexer] = value instead\n",
      "\n",
      "See the caveats in the documentation: https://pandas.pydata.org/pandas-docs/stable/user_guide/indexing.html#returning-a-view-versus-a-copy\n",
      "  features_train[numeric] = scaler.transform(features_train[numeric])\n",
      "/opt/conda/lib/python3.9/site-packages/pandas/core/indexing.py:1738: SettingWithCopyWarning: \n",
      "A value is trying to be set on a copy of a slice from a DataFrame.\n",
      "Try using .loc[row_indexer,col_indexer] = value instead\n",
      "\n",
      "See the caveats in the documentation: https://pandas.pydata.org/pandas-docs/stable/user_guide/indexing.html#returning-a-view-versus-a-copy\n",
      "  self._setitem_single_column(loc, value[:, i].tolist(), pi)\n"
     ]
    }
   ],
   "source": [
    "#     RowNumber — индекс строки в данных\n",
    "#     CustomerId — уникальный идентификатор клиента\n",
    "#     Surname — фамилия\n",
    "#     CreditScore — кредитный рейтинг\n",
    "#     Geography — страна проживания\n",
    "#     Gender — пол\n",
    "#     Age — возраст\n",
    "#     Tenure — сколько лет человек является клиентом банка\n",
    "#     Balance — баланс на счёте\n",
    "#     NumOfProducts — количество продуктов банка, используемых клиентом\n",
    "#     HasCrCard — наличие кредитной карты\n",
    "#     IsActiveMember — активность клиента\n",
    "#     EstimatedSalary — предполагаемая зарплата\n",
    "\n",
    "# Заменим пропущенные значения медианой\n",
    "tenure_median = data['Tenure'].median()\n",
    "data['Tenure'] = data['Tenure'].fillna(tenure_median)\n",
    "\n",
    "# Создадим датафрейм с защитой от дамми-ловушки\n",
    "data_dummy = pd.get_dummies(data, drop_first=True)\n",
    "target = data_dummy['Exited']\n",
    "features = data_dummy.drop(['Exited'] , axis=1)\n",
    "\n",
    "# Обучающая выборка\n",
    "features_train, features_test, target_train, target_test = train_test_split(\n",
    "    features, target, test_size = 0.4, random_state = 12345)\n",
    "\n",
    "# Валидационная и тестовая выборки\n",
    "features_valid, features_test, target_valid, target_test = train_test_split(\n",
    "    features_test, target_test, test_size = 0.5, random_state = 12345)\n",
    "\n",
    "# Промасштабируем количественно-численные признаки\n",
    "numeric = ['CreditScore', 'Age', 'Tenure', 'Balance', 'NumOfProducts', 'EstimatedSalary']\n",
    "scaler = StandardScaler()\n",
    "scaler.fit(features_train[numeric])\n",
    "\n",
    "features_train[numeric] = scaler.transform(features_train[numeric])\n",
    "features_valid[numeric] = scaler.transform(features_valid[numeric])\n",
    "features_test[numeric] = scaler.transform(features_test[numeric])\n",
    "\n",
    "print(f'Размер обучающей выборки: {features_train.shape}')\n",
    "print(f'Размер валидационной выборки: {features_valid.shape}')\n",
    "print(f'Размер тестовой выборки: {features_test.shape}')"
   ]
  },
  {
   "cell_type": "markdown",
   "metadata": {},
   "source": [
    "<b>Вывод:</b>\n",
    "\n",
    "Просмотрены и подготовлены данные к исследованию. Сформированы выборки: обучающая, валидационная и тестовая."
   ]
  },
  {
   "cell_type": "markdown",
   "metadata": {},
   "source": [
    "## Исследование задачи"
   ]
  },
  {
   "cell_type": "code",
   "execution_count": 9,
   "metadata": {},
   "outputs": [
    {
     "name": "stdout",
     "output_type": "stream",
     "text": [
      "Лучшая глубина решающего дерева: 6, f1-score: 0.570\n"
     ]
    }
   ],
   "source": [
    "# Определение лучшей глубины решающего дерева\n",
    "best_depth_dt = 0\n",
    "best_f1_score_dt = 0\n",
    "\n",
    "for depth in range(1,30):\n",
    "    model_dt = DecisionTreeClassifier(random_state=12345, max_depth=depth)\n",
    "    model_dt.fit(features_train, target_train)\n",
    "    predicted_valid_dt = model_dt.predict(features_valid)\n",
    "    score_dt = f1_score(target_valid, predicted_valid_dt)\n",
    "    if score_dt > best_f1_score_dt:\n",
    "        best_depth_dt = depth\n",
    "        best_f1_score_dt = score_dt\n",
    "\n",
    "print(f'Лучшая глубина решающего дерева: {best_depth_dt}, f1-score: {best_f1_score_dt:.3f}')"
   ]
  },
  {
   "cell_type": "code",
   "execution_count": 10,
   "metadata": {},
   "outputs": [
    {
     "name": "stdout",
     "output_type": "stream",
     "text": [
      "Лучшее количество деревьев случайного леса: 23, f1-score: 0.588\n"
     ]
    }
   ],
   "source": [
    "# Определение лучшего количества деревьев случайного леса\n",
    "best_est = 0\n",
    "best_f1_score_rf = 0\n",
    "\n",
    "for est in range(1, 50):\n",
    "    model_rf = RandomForestClassifier(random_state=12345, n_estimators=est)\n",
    "    model_rf.fit(features_train, target_train)\n",
    "    predicted_valid_rf = model_rf.predict(features_valid)\n",
    "    score_rf = f1_score(target_valid, predicted_valid_rf)\n",
    "    if score_rf > best_f1_score_rf:\n",
    "        best_est = est\n",
    "        best_f1_score_rf = score_rf\n",
    "\n",
    "print(f'Лучшее количество деревьев случайного леса: {best_est}, f1-score: {best_f1_score_rf:.3f}')"
   ]
  },
  {
   "cell_type": "code",
   "execution_count": 11,
   "metadata": {},
   "outputs": [
    {
     "name": "stdout",
     "output_type": "stream",
     "text": [
      "Лучшая глубина случайного леса: 19, f1-score: 0.585\n"
     ]
    }
   ],
   "source": [
    "# Определение лучшей глубины случайного леса\n",
    "best_depth_rf = 0\n",
    "best_f1_score_rf = 0\n",
    "\n",
    "for depth in range(1,50):\n",
    "    model_rf = RandomForestClassifier(random_state=12345, n_estimators=49, max_depth=depth)\n",
    "    model_rf.fit(features_train, target_train)\n",
    "    predicted_valid_rf = model_rf.predict(features_valid)\n",
    "    score_rf = f1_score(target_valid, predicted_valid_rf)\n",
    "    if score_rf > best_f1_score_rf:\n",
    "        best_depth_rf = depth\n",
    "        best_f1_score_rf = score_rf\n",
    "\n",
    "print(f'Лучшая глубина случайного леса: {best_depth_rf}, f1-score: {best_f1_score_rf:.3f}')"
   ]
  },
  {
   "cell_type": "markdown",
   "metadata": {},
   "source": [
    "Гиперпараметр max_depth вместе с n_estimators даёт f1-score ниже, чем при использовании только n_estimators. Будем использовать только n_estimators."
   ]
  },
  {
   "cell_type": "code",
   "execution_count": 12,
   "metadata": {
    "scrolled": false
   },
   "outputs": [
    {
     "name": "stdout",
     "output_type": "stream",
     "text": [
      "\n",
      "Решающее дерево\n",
      "Доля правильных ответов: 0.858, precision: 0.777, recall: 0.450, f1: 0.570, roc_auc: 0.816\n",
      "\n",
      "Случайный лес\n",
      "Доля правильных ответов: 0.858, precision: 0.746, recall: 0.486, f1: 0.588, roc_auc: 0.833\n",
      "\n",
      "Логистическая регрессия\n",
      "Доля правильных ответов: 0.802, precision: 0.563, recall: 0.234, f1: 0.331, roc_auc: 0.759\n"
     ]
    }
   ],
   "source": [
    "# Создание функции проверки модели на адекватность, f1 и ROC\n",
    "def сheck_adequacy_f1_roc(name, model, features_valid, target_valid, features_train, target_train):\n",
    "    model.fit(features_train, target_train)\n",
    "    predicted_valid = model.predict(features_valid)\n",
    "    accuracy = accuracy_score(target_valid, predicted_valid)\n",
    "    precision = precision_score(target_valid, predicted_valid, zero_division=0)\n",
    "    recall = recall_score(target_valid, predicted_valid, zero_division=0)\n",
    "    f1 = f1_score(target_valid, predicted_valid, zero_division=0)\n",
    "\n",
    "    probabilities_valid = model.predict_proba(features_valid)\n",
    "    probabilities_one_valid = probabilities_valid[:, 1]\n",
    "    auc_roc = roc_auc_score(target_valid, probabilities_one_valid)\n",
    "\n",
    "    print(f'\\n{name}')\n",
    "    print(f'Доля правильных ответов: {accuracy}, precision: {precision:.3f}, recall: {recall:.3f}, f1: {f1:.3f}, roc_auc: {auc_roc:.3f}')\n",
    "\n",
    "# Создание и обучение модели Решающее дерево\n",
    "model_dt = DecisionTreeClassifier(random_state=12345, max_depth=6)\n",
    "сheck_adequacy_f1_roc('Решающее дерево', model_dt, features_valid, target_valid, features_train, target_train)\n",
    "\n",
    "# Создание и обучение модели Случайный лес\n",
    "model_rf = RandomForestClassifier(random_state=12345, n_estimators=23)\n",
    "сheck_adequacy_f1_roc('Случайный лес', model_rf, features_valid, target_valid, features_train, target_train)"
   ]
  },
  {
   "cell_type": "markdown",
   "metadata": {},
   "source": [
    "<b>Вывод:</b>\n",
    "\n",
    "По полученному результату видно, что f1 и ROC-кривая лучше у случайного леса."
   ]
  },
  {
   "cell_type": "markdown",
   "metadata": {},
   "source": [
    "## Борьба с дисбалансом"
   ]
  },
  {
   "cell_type": "code",
   "execution_count": 13,
   "metadata": {},
   "outputs": [
    {
     "name": "stdout",
     "output_type": "stream",
     "text": [
      "Лучшая глубина решающего дерева: 5, f1-score: 0.596\n"
     ]
    }
   ],
   "source": [
    "# Рассмотрим взвешивание классов\n",
    "# Определение лучшей глубины решающего дерева\n",
    "best_depth_dt = 0\n",
    "best_f1_score_dt = 0\n",
    "\n",
    "for depth in range(1,30):\n",
    "    model_dt = DecisionTreeClassifier(random_state=12345, max_depth=depth, class_weight='balanced')\n",
    "    model_dt.fit(features_train, target_train)\n",
    "    predicted_valid_dt = model_dt.predict(features_valid)\n",
    "    score_dt = f1_score(target_valid, predicted_valid_dt)\n",
    "    if score_dt > best_f1_score_dt:\n",
    "        best_depth_dt = depth\n",
    "        best_f1_score_dt = score_dt\n",
    "\n",
    "print(f'Лучшая глубина решающего дерева: {best_depth_dt}, f1-score: {best_f1_score_dt:.3f}')"
   ]
  },
  {
   "cell_type": "code",
   "execution_count": 14,
   "metadata": {},
   "outputs": [
    {
     "name": "stdout",
     "output_type": "stream",
     "text": [
      "Лучшее количество деревьев случайного леса: 49, f1-score: 0.574\n"
     ]
    }
   ],
   "source": [
    "# Определение лучшего количества деревьев случайного леса\n",
    "best_est = 0\n",
    "best_f1_score_rf = 0\n",
    "\n",
    "for est in range(1, 50):\n",
    "    model_rf = RandomForestClassifier(random_state=12345, n_estimators=est, class_weight='balanced')\n",
    "    model_rf.fit(features_train, target_train)\n",
    "    predicted_valid_rf = model_rf.predict(features_valid)\n",
    "    score_rf = f1_score(target_valid, predicted_valid_rf)\n",
    "    if score_rf > best_f1_score_rf:\n",
    "        best_est = est\n",
    "        best_f1_score_rf = score_rf\n",
    "\n",
    "print(f'Лучшее количество деревьев случайного леса: {best_est}, f1-score: {best_f1_score_rf:.3f}')"
   ]
  },
  {
   "cell_type": "code",
   "execution_count": 15,
   "metadata": {},
   "outputs": [
    {
     "name": "stdout",
     "output_type": "stream",
     "text": [
      "Лучшая глубина случайного леса: 8, f1-score: 0.621\n"
     ]
    }
   ],
   "source": [
    "# Определение лучшей глубины случайного леса\n",
    "best_depth_rf = 0\n",
    "best_f1_score_rf = 0\n",
    "\n",
    "for depth in range(1,50):\n",
    "    model_rf = RandomForestClassifier(random_state=12345, n_estimators=27, max_depth=depth, class_weight='balanced')\n",
    "    model_rf.fit(features_train, target_train)\n",
    "    predicted_valid_rf = model_rf.predict(features_valid)\n",
    "    score_rf = f1_score(target_valid, predicted_valid_rf)\n",
    "    if score_rf > best_f1_score_rf:\n",
    "        best_depth_rf = depth\n",
    "        best_f1_score_rf = score_rf\n",
    "\n",
    "print(f'Лучшая глубина случайного леса: {best_depth_rf}, f1-score: {best_f1_score_rf:.3f}')"
   ]
  },
  {
   "cell_type": "code",
   "execution_count": 16,
   "metadata": {
    "scrolled": true
   },
   "outputs": [
    {
     "name": "stdout",
     "output_type": "stream",
     "text": [
      "\n",
      "Решающее дерево\n",
      "Доля правильных ответов: 0.8105, precision: 0.537, recall: 0.670, f1: 0.596, roc_auc: 0.831\n",
      "\n",
      "Случайный лес\n",
      "Доля правильных ответов: 0.8555, precision: 0.759, recall: 0.452, f1: 0.567, roc_auc: 0.828\n",
      "\n",
      "Логистическая регрессия\n",
      "Доля правильных ответов: 0.702, precision: 0.381, recall: 0.682, f1: 0.489, roc_auc: 0.764\n"
     ]
    }
   ],
   "source": [
    "# Создание и обучение модели Решающее дерево\n",
    "model_dt = DecisionTreeClassifier(random_state=12345, max_depth=5, class_weight='balanced')\n",
    "сheck_adequacy_f1_roc('Решающее дерево', model_dt, features_valid, target_valid, features_train, target_train)\n",
    "\n",
    "# Создание и обучение модели Случайный лес\n",
    "model_rf = RandomForestClassifier(random_state=12345, n_estimators=27, max_depth=33, class_weight='balanced')\n",
    "сheck_adequacy_f1_roc('Случайный лес', model_rf, features_valid, target_valid, features_train, target_train)"
   ]
  },
  {
   "cell_type": "code",
   "execution_count": 17,
   "metadata": {
    "scrolled": true
   },
   "outputs": [],
   "source": [
    "# Рассмотрим увеличение выборки\n",
    "# Создание функции upsample\n",
    "def upsample(features, target, repeat):\n",
    "    features_zeros = features[target == 0]\n",
    "    features_ones = features[target == 1]\n",
    "    target_zeros = target[target == 0]\n",
    "    target_ones = target[target == 1]\n",
    "\n",
    "    features_upsampled = pd.concat([features_zeros] + [features_ones] * repeat)\n",
    "    target_upsampled = pd.concat([target_zeros] + [target_ones] * repeat)\n",
    "    features_upsampled, target_upsampled = shuffle(features_upsampled, target_upsampled, random_state=12345)\n",
    "\n",
    "    return features_upsampled, target_upsampled\n",
    "\n",
    "features_upsampled, target_upsampled = upsample(features_train, target_train, 4)"
   ]
  },
  {
   "cell_type": "code",
   "execution_count": 18,
   "metadata": {},
   "outputs": [
    {
     "name": "stdout",
     "output_type": "stream",
     "text": [
      "Лучшая глубина решающего дерева: 5, f1-score: 0.596\n"
     ]
    }
   ],
   "source": [
    "# Определение лучшей глубины решающего дерева\n",
    "best_depth_dt = 0\n",
    "best_f1_score_dt = 0\n",
    "\n",
    "for depth in range(1,30):\n",
    "    model_dt = DecisionTreeClassifier(random_state=12345, max_depth=depth)\n",
    "    model_dt.fit(features_upsampled, target_upsampled)\n",
    "    predicted_valid_dt = model_dt.predict(features_valid)\n",
    "    score_dt = f1_score(target_valid, predicted_valid_dt)\n",
    "    if score_dt > best_f1_score_dt:\n",
    "        best_depth_dt = depth\n",
    "        best_f1_score_dt = score_dt\n",
    "\n",
    "print(f'Лучшая глубина решающего дерева: {best_depth_dt}, f1-score: {best_f1_score_dt:.3f}')"
   ]
  },
  {
   "cell_type": "code",
   "execution_count": 19,
   "metadata": {},
   "outputs": [
    {
     "name": "stdout",
     "output_type": "stream",
     "text": [
      "Лучшее количество деревьев случайного леса: 31, f1-score: 0.603\n"
     ]
    }
   ],
   "source": [
    "# Определение лучшего количества деревьев случайного леса\n",
    "best_est = 0\n",
    "best_f1_score_rf = 0\n",
    "\n",
    "for est in range(1, 50):\n",
    "    model_rf = RandomForestClassifier(random_state=12345, n_estimators=est)\n",
    "    model_rf.fit(features_upsampled, target_upsampled)\n",
    "    predicted_valid_rf = model_rf.predict(features_valid)\n",
    "    score_rf = f1_score(target_valid, predicted_valid_rf)\n",
    "    if score_rf > best_f1_score_rf:\n",
    "        best_est = est\n",
    "        best_f1_score_rf = score_rf\n",
    "\n",
    "print(f'Лучшее количество деревьев случайного леса: {best_est}, f1-score: {best_f1_score_rf:.3f}')"
   ]
  },
  {
   "cell_type": "code",
   "execution_count": 20,
   "metadata": {},
   "outputs": [
    {
     "name": "stdout",
     "output_type": "stream",
     "text": [
      "Лучшая глубина случайного леса: 10, f1-score: 0.621\n"
     ]
    }
   ],
   "source": [
    "# Определение лучшей глубины случайного леса\n",
    "best_depth_rf = 0\n",
    "best_f1_score_rf = 0\n",
    "\n",
    "for depth in range(1,50):\n",
    "    model_rf = RandomForestClassifier(random_state=12345, n_estimators=31, max_depth=depth)\n",
    "    model_rf.fit(features_upsampled, target_upsampled)\n",
    "    predicted_valid_rf = model_rf.predict(features_valid)\n",
    "    score_rf = f1_score(target_valid, predicted_valid_rf)\n",
    "    if score_rf > best_f1_score_rf:\n",
    "        best_depth_rf = depth\n",
    "        best_f1_score_rf = score_rf\n",
    "\n",
    "print(f'Лучшая глубина случайного леса: {best_depth_rf}, f1-score: {best_f1_score_rf:.3f}')"
   ]
  },
  {
   "cell_type": "code",
   "execution_count": 21,
   "metadata": {},
   "outputs": [
    {
     "name": "stdout",
     "output_type": "stream",
     "text": [
      "\n",
      "Решающее дерево\n",
      "Доля правильных ответов: 0.8105, precision: 0.537, recall: 0.670, f1: 0.596, roc_auc: 0.831\n",
      "\n",
      "Случайный лес\n",
      "Доля правильных ответов: 0.8255, precision: 0.569, recall: 0.684, f1: 0.621, roc_auc: 0.850\n",
      "\n",
      "Логистическая регрессия\n",
      "Доля правильных ответов: 0.702, precision: 0.381, recall: 0.682, f1: 0.489, roc_auc: 0.764\n"
     ]
    }
   ],
   "source": [
    "# Создание и обучение модели Решающее дерево\n",
    "model_dt = DecisionTreeClassifier(random_state=12345, max_depth=5)\n",
    "сheck_adequacy_f1_roc('Решающее дерево', model_dt, features_valid, target_valid, features_upsampled, target_upsampled)\n",
    "\n",
    "# Создание и обучение модели Случайный лес\n",
    "model_rf = RandomForestClassifier(random_state=12345, n_estimators=31, max_depth=10)\n",
    "сheck_adequacy_f1_roc('Случайный лес', model_rf, features_valid, target_valid, features_upsampled, target_upsampled)"
   ]
  },
  {
   "cell_type": "code",
   "execution_count": 22,
   "metadata": {},
   "outputs": [],
   "source": [
    "# Рассмотрим уменьшение выборки\n",
    "# Создание функции downsample\n",
    "def downsample(features, target, fraction):\n",
    "    features_zeros = features[target == 0]\n",
    "    features_ones = features[target == 1]\n",
    "    target_zeros = target[target == 0]\n",
    "    target_ones = target[target == 1]\n",
    "\n",
    "    features_downsampled = pd.concat([features_zeros.sample(frac=fraction, random_state=12345)] + [features_ones])\n",
    "    target_downsampled = pd.concat([target_zeros.sample(frac=fraction, random_state=12345)] + [target_ones])\n",
    "    features_downsampled, target_downsampled = shuffle(features_downsampled, target_downsampled, random_state=12345)\n",
    "\n",
    "    return features_downsampled, target_downsampled\n",
    "\n",
    "features_downsampled, target_downsampled = downsample(features_train, target_train, 0.25)"
   ]
  },
  {
   "cell_type": "code",
   "execution_count": 23,
   "metadata": {},
   "outputs": [
    {
     "name": "stdout",
     "output_type": "stream",
     "text": [
      "Лучшая глубина решающего дерева: 5, f1-score: 0.594\n"
     ]
    }
   ],
   "source": [
    "# Определение лучшей глубины решающего дерева\n",
    "best_depth_dt = 0\n",
    "best_f1_score_dt = 0\n",
    "\n",
    "for depth in range(1,30):\n",
    "    model_dt = DecisionTreeClassifier(random_state=12345, max_depth=depth)\n",
    "    model_dt.fit(features_downsampled, target_downsampled)\n",
    "    predicted_valid_dt = model_dt.predict(features_valid)\n",
    "    score_dt = f1_score(target_valid, predicted_valid_dt)\n",
    "    if score_dt > best_f1_score_dt:\n",
    "        best_depth_dt = depth\n",
    "        best_f1_score_dt = score_dt\n",
    "\n",
    "print(f'Лучшая глубина решающего дерева: {best_depth_dt}, f1-score: {best_f1_score_dt:.3f}')"
   ]
  },
  {
   "cell_type": "code",
   "execution_count": 24,
   "metadata": {},
   "outputs": [
    {
     "name": "stdout",
     "output_type": "stream",
     "text": [
      "Лучшее количество деревьев случайного леса: 16, f1-score: 0.597\n"
     ]
    }
   ],
   "source": [
    "# Определение лучшего количества деревьев случайного леса\n",
    "best_est = 0\n",
    "best_f1_score_rf = 0\n",
    "\n",
    "for est in range(1, 50):\n",
    "    model_rf = RandomForestClassifier(random_state=12345, n_estimators=est)\n",
    "    model_rf.fit(features_downsampled, target_downsampled)\n",
    "    predicted_valid_rf = model_rf.predict(features_valid)\n",
    "    score_rf = f1_score(target_valid, predicted_valid_rf)\n",
    "    if score_rf > best_f1_score_rf:\n",
    "        best_est = est\n",
    "        best_f1_score_rf = score_rf\n",
    "\n",
    "print(f'Лучшее количество деревьев случайного леса: {best_est}, f1-score: {best_f1_score_rf:.3f}')"
   ]
  },
  {
   "cell_type": "code",
   "execution_count": 25,
   "metadata": {},
   "outputs": [
    {
     "name": "stdout",
     "output_type": "stream",
     "text": [
      "Лучшая глубина случайного леса: 24, f1-score: 0.597\n"
     ]
    }
   ],
   "source": [
    "# Определение лучшей глубины случайного леса\n",
    "best_depth_rf = 0\n",
    "best_f1_score_rf = 0\n",
    "\n",
    "for depth in range(1,50):\n",
    "    model_rf = RandomForestClassifier(random_state=12345, n_estimators=16, max_depth=depth)\n",
    "    model_rf.fit(features_downsampled, target_downsampled)\n",
    "    predicted_valid_rf = model_rf.predict(features_valid)\n",
    "    score_rf = f1_score(target_valid, predicted_valid_rf)\n",
    "    if score_rf > best_f1_score_rf:\n",
    "        best_depth_rf = depth\n",
    "        best_f1_score_rf = score_rf\n",
    "\n",
    "print(f'Лучшая глубина случайного леса: {best_depth_rf}, f1-score: {best_f1_score_rf:.3f}')"
   ]
  },
  {
   "cell_type": "code",
   "execution_count": 26,
   "metadata": {},
   "outputs": [
    {
     "name": "stdout",
     "output_type": "stream",
     "text": [
      "\n",
      "Решающее дерево\n",
      "Доля правильных ответов: 0.8, precision: 0.516, recall: 0.701, f1: 0.594, roc_auc: 0.824\n",
      "\n",
      "Случайный лес\n",
      "Доля правильных ответов: 0.7945, precision: 0.506, recall: 0.730, f1: 0.597, roc_auc: 0.842\n",
      "\n",
      "Логистическая регрессия\n",
      "Доля правильных ответов: 0.7005, precision: 0.378, recall: 0.672, f1: 0.484, roc_auc: 0.762\n"
     ]
    }
   ],
   "source": [
    "# Создание и обучение модели Решающее дерево\n",
    "model_dt = DecisionTreeClassifier(random_state=12345, max_depth=5)\n",
    "сheck_adequacy_f1_roc('Решающее дерево', model_dt, features_valid, target_valid, features_downsampled, target_downsampled)\n",
    "\n",
    "# Создание и обучение модели Случайный лес\n",
    "model_rf = RandomForestClassifier(random_state=12345, n_estimators=16, max_depth=24)\n",
    "сheck_adequacy_f1_roc('Случайный лес', model_rf, features_valid, target_valid, features_downsampled, target_downsampled)"
   ]
  },
  {
   "cell_type": "markdown",
   "metadata": {},
   "source": [
    "<b>Вывод:</b>\n",
    "\n",
    "При устранении дисбаланса в данных лучше всего показала техника \"upsampling\" для модели \"Случайный лес\" с количество деревьев 31 и с глубиной 10.\n",
    "\n",
    "Применим ее для тестирования модели."
   ]
  },
  {
   "cell_type": "markdown",
   "metadata": {},
   "source": [
    "## Тестирование модели"
   ]
  },
  {
   "cell_type": "code",
   "execution_count": 27,
   "metadata": {},
   "outputs": [
    {
     "name": "stdout",
     "output_type": "stream",
     "text": [
      "Решающее дерево\n",
      "Доля правильных ответов: 0.818, precision: 0.560, recall: 0.655, f1: 0.603, roc_auc: 0.850\n"
     ]
    }
   ],
   "source": [
    "# Тестирование модели Решающее дерево\n",
    "model = RandomForestClassifier(random_state=12345, n_estimators=31, max_depth=10)\n",
    "model.fit(features_upsampled, target_upsampled)\n",
    "predicted = model.predict(features_test)\n",
    "accuracy = accuracy_score(target_test, predicted)\n",
    "precision = precision_score(target_test, predicted)\n",
    "recall = recall_score(target_test, predicted)\n",
    "f1 = f1_score(target_test, predicted)\n",
    "\n",
    "probabilities_test = model.predict_proba(features_test)\n",
    "probabilities_one_test = probabilities_test[:, 1]\n",
    "auc_roc = roc_auc_score(target_test, probabilities_one_test)\n",
    "\n",
    "print('Решающее дерево')\n",
    "print(f'Доля правильных ответов: {accuracy}, precision: {precision:.3f}, recall: {recall:.3f}, f1: {f1:.3f}, roc_auc: {auc_roc:.3f}')"
   ]
  },
  {
   "cell_type": "markdown",
   "metadata": {},
   "source": [
    "<div class=\"alert alert-block alert-warning\">\n",
    "<b>Комментарии студентки:</b>\n",
    "\n",
    "После внесения корректировок по комментариям была достигнута цель: f1 > 0.59.\n",
    "\n",
    "</div>"
   ]
  },
  {
   "cell_type": "markdown",
   "metadata": {
    "pycharm": {
     "name": "#%% md\n"
    }
   },
   "source": [
    "<b>Вывод:</b>\n",
    "\n",
    "В ходе данной работы было выполнено следующее: \n",
    "- просмотрены и подготовлены данные к исследованию: \n",
    " - пропущенные значения для Tenure заполнены медианой;\n",
    " - промасштабированны количественно-численные признаки;\n",
    " - сформированы выборки: обучающая, валидационная и тестовая;\n",
    "- при обучении моделей подбирались гиперпараметры для:\n",
    " - решающее дерево;\n",
    " - cлучайный лес;\n",
    "- при устранении дисбаланса в данных были применены техники:\n",
    " - взвешивание классов;\n",
    " - увеличение выборки - лучше всего показала данная техника для модели \"Случайный лес\" с f1: 0.621;\n",
    " - уменьшение выборки;\n",
    "- при тестировании модели на тестовой выборке получили f1 - 0.603 (больше 0,59), при этом ROC-кривая оказалась - 0.85."
   ]
  }
 ],
 "metadata": {
  "ExecuteTimeLog": [
   {
    "duration": 86,
    "start_time": "2023-04-29T22:40:41.033Z"
   },
   {
    "duration": 1256,
    "start_time": "2023-04-29T22:40:54.416Z"
   },
   {
    "duration": 93,
    "start_time": "2023-04-29T22:43:27.230Z"
   },
   {
    "duration": 70,
    "start_time": "2023-04-29T22:43:39.331Z"
   },
   {
    "duration": 53,
    "start_time": "2023-04-29T22:43:52.168Z"
   },
   {
    "duration": 90,
    "start_time": "2023-04-29T22:44:42.972Z"
   },
   {
    "duration": 195,
    "start_time": "2023-04-29T22:48:01.930Z"
   },
   {
    "duration": 94,
    "start_time": "2023-04-29T22:48:16.999Z"
   },
   {
    "duration": 96,
    "start_time": "2023-04-29T22:50:44.320Z"
   },
   {
    "duration": 90,
    "start_time": "2023-04-29T22:53:18.175Z"
   },
   {
    "duration": 93,
    "start_time": "2023-04-29T22:58:34.309Z"
   },
   {
    "duration": 117,
    "start_time": "2023-04-29T22:59:03.413Z"
   },
   {
    "duration": 102,
    "start_time": "2023-04-29T22:59:53.464Z"
   },
   {
    "duration": 128,
    "start_time": "2023-04-29T23:00:58.447Z"
   },
   {
    "duration": 89,
    "start_time": "2023-04-29T23:02:28.048Z"
   },
   {
    "duration": 91,
    "start_time": "2023-04-29T23:03:13.122Z"
   },
   {
    "duration": 148,
    "start_time": "2023-04-29T23:05:03.979Z"
   },
   {
    "duration": 107,
    "start_time": "2023-04-29T23:05:19.119Z"
   },
   {
    "duration": 93,
    "start_time": "2023-04-29T23:11:08.610Z"
   },
   {
    "duration": 121,
    "start_time": "2023-04-29T23:13:41.930Z"
   },
   {
    "duration": 142,
    "start_time": "2023-04-29T23:16:32.763Z"
   },
   {
    "duration": 114,
    "start_time": "2023-04-29T23:18:02.686Z"
   },
   {
    "duration": 111,
    "start_time": "2023-04-29T23:19:14.972Z"
   },
   {
    "duration": 100,
    "start_time": "2023-04-29T23:20:57.083Z"
   },
   {
    "duration": 102,
    "start_time": "2023-04-29T23:22:01.119Z"
   },
   {
    "duration": 98,
    "start_time": "2023-04-29T23:23:23.088Z"
   },
   {
    "duration": 122,
    "start_time": "2023-04-29T23:29:19.151Z"
   },
   {
    "duration": 108,
    "start_time": "2023-04-29T23:29:52.675Z"
   },
   {
    "duration": 128,
    "start_time": "2023-04-29T23:34:51.794Z"
   },
   {
    "duration": 112,
    "start_time": "2023-04-29T23:35:12.911Z"
   },
   {
    "duration": 125,
    "start_time": "2023-04-29T23:35:31.407Z"
   },
   {
    "duration": 140,
    "start_time": "2023-04-29T23:36:02.274Z"
   },
   {
    "duration": 145,
    "start_time": "2023-04-29T23:36:26.024Z"
   },
   {
    "duration": 201,
    "start_time": "2023-04-29T23:36:35.094Z"
   },
   {
    "duration": 117,
    "start_time": "2023-04-29T23:38:03.234Z"
   },
   {
    "duration": 107,
    "start_time": "2023-04-29T23:38:24.478Z"
   },
   {
    "duration": 132,
    "start_time": "2023-04-29T23:38:44.738Z"
   },
   {
    "duration": 145,
    "start_time": "2023-04-29T23:39:07.747Z"
   },
   {
    "duration": 148,
    "start_time": "2023-04-29T23:39:48.177Z"
   },
   {
    "duration": 165,
    "start_time": "2023-04-29T23:40:35.809Z"
   },
   {
    "duration": 148,
    "start_time": "2023-04-29T23:41:05.179Z"
   },
   {
    "duration": 115,
    "start_time": "2023-04-29T23:41:31.776Z"
   },
   {
    "duration": 151,
    "start_time": "2023-04-29T23:41:56.041Z"
   },
   {
    "duration": 90,
    "start_time": "2023-04-29T23:42:55.638Z"
   },
   {
    "duration": 127,
    "start_time": "2023-04-29T23:43:08.345Z"
   },
   {
    "duration": 133,
    "start_time": "2023-04-29T23:43:26.326Z"
   },
   {
    "duration": 131,
    "start_time": "2023-04-29T23:44:22.074Z"
   },
   {
    "duration": 135,
    "start_time": "2023-04-29T23:44:30.133Z"
   },
   {
    "duration": 119,
    "start_time": "2023-04-29T23:44:47.814Z"
   },
   {
    "duration": 108,
    "start_time": "2023-04-29T23:45:37.475Z"
   },
   {
    "duration": 11,
    "start_time": "2023-04-29T23:47:20.380Z"
   },
   {
    "duration": 152,
    "start_time": "2023-04-29T23:47:38.824Z"
   },
   {
    "duration": 125,
    "start_time": "2023-04-29T23:48:20.945Z"
   },
   {
    "duration": 112,
    "start_time": "2023-04-29T23:50:09.313Z"
   },
   {
    "duration": 134,
    "start_time": "2023-04-29T23:50:55.633Z"
   },
   {
    "duration": 126,
    "start_time": "2023-04-29T23:54:08.150Z"
   },
   {
    "duration": 113,
    "start_time": "2023-04-29T23:54:46.724Z"
   },
   {
    "duration": 114,
    "start_time": "2023-04-29T23:56:29.908Z"
   },
   {
    "duration": 1177,
    "start_time": "2023-04-30T01:35:07.082Z"
   },
   {
    "duration": 115,
    "start_time": "2023-04-30T02:20:41.902Z"
   },
   {
    "duration": 9,
    "start_time": "2023-04-30T02:21:02.680Z"
   },
   {
    "duration": 11,
    "start_time": "2023-04-30T02:21:21.064Z"
   },
   {
    "duration": 21,
    "start_time": "2023-04-30T02:22:18.903Z"
   },
   {
    "duration": 19,
    "start_time": "2023-04-30T02:23:48.263Z"
   },
   {
    "duration": 1210,
    "start_time": "2023-04-30T02:29:50.750Z"
   },
   {
    "duration": 119,
    "start_time": "2023-04-30T02:29:51.962Z"
   },
   {
    "duration": 22,
    "start_time": "2023-04-30T02:41:06.060Z"
   },
   {
    "duration": 18,
    "start_time": "2023-04-30T02:41:30.867Z"
   },
   {
    "duration": 1311,
    "start_time": "2023-04-30T02:49:38.470Z"
   },
   {
    "duration": 0,
    "start_time": "2023-04-30T02:49:39.783Z"
   },
   {
    "duration": 1521,
    "start_time": "2023-04-30T02:50:39.908Z"
   },
   {
    "duration": 0,
    "start_time": "2023-04-30T02:50:41.431Z"
   },
   {
    "duration": 125,
    "start_time": "2023-04-30T02:56:19.548Z"
   },
   {
    "duration": 145,
    "start_time": "2023-04-30T02:56:39.031Z"
   },
   {
    "duration": 35,
    "start_time": "2023-04-30T02:56:44.752Z"
   },
   {
    "duration": 1178,
    "start_time": "2023-04-30T03:06:48.771Z"
   },
   {
    "duration": 111,
    "start_time": "2023-04-30T03:06:49.950Z"
   },
   {
    "duration": 17,
    "start_time": "2023-04-30T03:14:34.276Z"
   },
   {
    "duration": 27,
    "start_time": "2023-04-30T03:15:19.276Z"
   },
   {
    "duration": 154,
    "start_time": "2023-04-30T03:18:07.659Z"
   },
   {
    "duration": 171,
    "start_time": "2023-04-30T03:19:37.707Z"
   },
   {
    "duration": 140,
    "start_time": "2023-04-30T03:24:03.023Z"
   },
   {
    "duration": 205,
    "start_time": "2023-04-30T03:24:17.191Z"
   },
   {
    "duration": 203,
    "start_time": "2023-04-30T03:26:01.516Z"
   },
   {
    "duration": 147,
    "start_time": "2023-04-30T03:26:09.022Z"
   },
   {
    "duration": 144,
    "start_time": "2023-04-30T03:26:17.967Z"
   },
   {
    "duration": 145,
    "start_time": "2023-04-30T03:26:21.412Z"
   },
   {
    "duration": 156,
    "start_time": "2023-04-30T03:26:22.987Z"
   },
   {
    "duration": 162,
    "start_time": "2023-04-30T03:26:36.455Z"
   },
   {
    "duration": 186,
    "start_time": "2023-04-30T03:26:39.112Z"
   },
   {
    "duration": 150,
    "start_time": "2023-04-30T03:26:41.106Z"
   },
   {
    "duration": 165,
    "start_time": "2023-04-30T03:26:42.745Z"
   },
   {
    "duration": 156,
    "start_time": "2023-04-30T03:26:46.155Z"
   },
   {
    "duration": 158,
    "start_time": "2023-04-30T03:26:47.997Z"
   },
   {
    "duration": 138,
    "start_time": "2023-04-30T03:26:58.654Z"
   },
   {
    "duration": 144,
    "start_time": "2023-04-30T03:27:47.451Z"
   },
   {
    "duration": 161,
    "start_time": "2023-04-30T03:33:28.985Z"
   },
   {
    "duration": 453,
    "start_time": "2023-04-30T03:40:46.653Z"
   },
   {
    "duration": 443,
    "start_time": "2023-04-30T03:40:55.285Z"
   },
   {
    "duration": 457,
    "start_time": "2023-04-30T03:41:00.449Z"
   },
   {
    "duration": 425,
    "start_time": "2023-04-30T03:42:43.105Z"
   },
   {
    "duration": 1184,
    "start_time": "2023-04-30T03:43:18.274Z"
   },
   {
    "duration": 358,
    "start_time": "2023-04-30T03:43:29.168Z"
   },
   {
    "duration": 1125,
    "start_time": "2023-04-30T03:47:38.353Z"
   },
   {
    "duration": 0,
    "start_time": "2023-04-30T03:47:52.244Z"
   },
   {
    "duration": 2178,
    "start_time": "2023-04-30T03:48:17.793Z"
   },
   {
    "duration": 10637,
    "start_time": "2023-04-30T03:48:19.973Z"
   },
   {
    "duration": 1535,
    "start_time": "2023-04-30T03:50:30.383Z"
   },
   {
    "duration": 933,
    "start_time": "2023-04-30T03:50:31.919Z"
   },
   {
    "duration": 2193,
    "start_time": "2023-04-30T03:51:05.368Z"
   },
   {
    "duration": 9539,
    "start_time": "2023-04-30T03:51:07.563Z"
   },
   {
    "duration": 2433,
    "start_time": "2023-04-30T03:56:12.217Z"
   },
   {
    "duration": 10568,
    "start_time": "2023-04-30T03:56:14.652Z"
   },
   {
    "duration": 7840,
    "start_time": "2023-04-30T03:59:02.618Z"
   },
   {
    "duration": 2591,
    "start_time": "2023-04-30T09:55:44.374Z"
   },
   {
    "duration": 9921,
    "start_time": "2023-04-30T09:55:46.967Z"
   },
   {
    "duration": 118,
    "start_time": "2023-04-30T11:29:57.658Z"
   },
   {
    "duration": 171,
    "start_time": "2023-04-30T11:30:19.050Z"
   },
   {
    "duration": 153,
    "start_time": "2023-04-30T11:30:33.194Z"
   },
   {
    "duration": 41018,
    "start_time": "2023-04-30T11:30:42.055Z"
   },
   {
    "duration": 367,
    "start_time": "2023-04-30T11:33:17.013Z"
   },
   {
    "duration": 361,
    "start_time": "2023-04-30T11:33:33.453Z"
   },
   {
    "duration": 360,
    "start_time": "2023-04-30T11:34:28.578Z"
   },
   {
    "duration": 39891,
    "start_time": "2023-04-30T11:34:47.487Z"
   },
   {
    "duration": 42392,
    "start_time": "2023-04-30T11:36:40.746Z"
   },
   {
    "duration": 162588,
    "start_time": "2023-04-30T11:47:58.774Z"
   },
   {
    "duration": 154,
    "start_time": "2023-04-30T11:53:21.154Z"
   },
   {
    "duration": 252,
    "start_time": "2023-04-30T11:55:31.054Z"
   },
   {
    "duration": 65967,
    "start_time": "2023-04-30T11:55:47.378Z"
   },
   {
    "duration": 46350,
    "start_time": "2023-04-30T11:58:49.481Z"
   },
   {
    "duration": 7188,
    "start_time": "2023-04-30T12:01:20.075Z"
   },
   {
    "duration": 148801,
    "start_time": "2023-04-30T12:02:43.155Z"
   },
   {
    "duration": 85,
    "start_time": "2023-04-30T12:22:20.022Z"
   },
   {
    "duration": 407,
    "start_time": "2023-04-30T12:22:28.209Z"
   },
   {
    "duration": 436,
    "start_time": "2023-04-30T12:22:48.245Z"
   },
   {
    "duration": 411,
    "start_time": "2023-04-30T12:23:46.845Z"
   },
   {
    "duration": 462,
    "start_time": "2023-04-30T12:27:21.575Z"
   },
   {
    "duration": 397,
    "start_time": "2023-04-30T12:27:50.602Z"
   },
   {
    "duration": 414,
    "start_time": "2023-04-30T12:35:24.057Z"
   },
   {
    "duration": 401,
    "start_time": "2023-04-30T12:35:43.829Z"
   },
   {
    "duration": 412,
    "start_time": "2023-04-30T12:35:54.798Z"
   },
   {
    "duration": 3375,
    "start_time": "2023-04-30T13:12:23.227Z"
   },
   {
    "duration": 12534,
    "start_time": "2023-04-30T13:17:14.161Z"
   },
   {
    "duration": 2464,
    "start_time": "2023-04-30T13:20:08.490Z"
   },
   {
    "duration": 28684,
    "start_time": "2023-04-30T13:20:10.956Z"
   },
   {
    "duration": 74,
    "start_time": "2023-04-30T13:20:39.642Z"
   },
   {
    "duration": 0,
    "start_time": "2023-04-30T13:20:39.718Z"
   },
   {
    "duration": 2489,
    "start_time": "2023-04-30T13:21:32.174Z"
   },
   {
    "duration": 29591,
    "start_time": "2023-04-30T13:21:34.666Z"
   },
   {
    "duration": 85387,
    "start_time": "2023-04-30T13:22:04.259Z"
   },
   {
    "duration": 3558,
    "start_time": "2023-04-30T13:23:29.648Z"
   },
   {
    "duration": 12164,
    "start_time": "2023-04-30T13:24:17.927Z"
   },
   {
    "duration": 2489,
    "start_time": "2023-04-30T13:25:02.042Z"
   },
   {
    "duration": 96866,
    "start_time": "2023-04-30T13:25:04.534Z"
   },
   {
    "duration": 541567,
    "start_time": "2023-04-30T13:26:41.402Z"
   },
   {
    "duration": 13119,
    "start_time": "2023-04-30T13:35:42.971Z"
   },
   {
    "duration": 2524,
    "start_time": "2023-04-30T13:41:08.367Z"
   },
   {
    "duration": 18274,
    "start_time": "2023-04-30T13:41:10.894Z"
   },
   {
    "duration": 50019,
    "start_time": "2023-04-30T13:41:29.170Z"
   },
   {
    "duration": 12204,
    "start_time": "2023-04-30T13:42:19.191Z"
   },
   {
    "duration": 12408,
    "start_time": "2023-04-30T13:56:49.593Z"
   },
   {
    "duration": 14646,
    "start_time": "2023-04-30T13:59:45.753Z"
   },
   {
    "duration": 15250,
    "start_time": "2023-04-30T14:04:38.041Z"
   },
   {
    "duration": 523,
    "start_time": "2023-04-30T14:10:46.510Z"
   },
   {
    "duration": 56,
    "start_time": "2023-04-30T14:13:09.359Z"
   },
   {
    "duration": 421,
    "start_time": "2023-04-30T14:16:30.857Z"
   },
   {
    "duration": 421,
    "start_time": "2023-04-30T14:19:30.494Z"
   },
   {
    "duration": 425,
    "start_time": "2023-04-30T14:20:07.237Z"
   },
   {
    "duration": 405,
    "start_time": "2023-04-30T14:20:30.811Z"
   },
   {
    "duration": 406,
    "start_time": "2023-04-30T14:21:02.702Z"
   },
   {
    "duration": 408,
    "start_time": "2023-04-30T14:24:06.543Z"
   },
   {
    "duration": 2618,
    "start_time": "2023-04-30T17:12:59.741Z"
   },
   {
    "duration": 19400,
    "start_time": "2023-04-30T17:13:02.361Z"
   },
   {
    "duration": 49281,
    "start_time": "2023-04-30T17:13:21.763Z"
   },
   {
    "duration": 12858,
    "start_time": "2023-04-30T17:14:11.047Z"
   },
   {
    "duration": 15299,
    "start_time": "2023-04-30T17:14:23.991Z"
   },
   {
    "duration": 613,
    "start_time": "2023-04-30T17:14:39.292Z"
   },
   {
    "duration": 435,
    "start_time": "2023-04-30T17:20:15.421Z"
   },
   {
    "duration": 56,
    "start_time": "2023-04-30T17:23:02.533Z"
   },
   {
    "duration": 409,
    "start_time": "2023-04-30T17:25:46.318Z"
   },
   {
    "duration": 415,
    "start_time": "2023-04-30T17:31:51.154Z"
   },
   {
    "duration": 432,
    "start_time": "2023-04-30T17:35:32.489Z"
   },
   {
    "duration": 22,
    "start_time": "2023-04-30T17:38:26.021Z"
   },
   {
    "duration": 474,
    "start_time": "2023-04-30T17:38:58.839Z"
   },
   {
    "duration": 409,
    "start_time": "2023-04-30T17:42:20.637Z"
   },
   {
    "duration": 508,
    "start_time": "2023-04-30T17:43:38.638Z"
   },
   {
    "duration": 415,
    "start_time": "2023-04-30T17:51:43.157Z"
   },
   {
    "duration": 2422,
    "start_time": "2023-04-30T17:58:45.521Z"
   },
   {
    "duration": 18184,
    "start_time": "2023-04-30T17:58:47.945Z"
   },
   {
    "duration": 48899,
    "start_time": "2023-04-30T17:59:06.131Z"
   },
   {
    "duration": 12565,
    "start_time": "2023-04-30T17:59:55.031Z"
   },
   {
    "duration": 14999,
    "start_time": "2023-04-30T18:00:07.598Z"
   },
   {
    "duration": 690,
    "start_time": "2023-04-30T18:00:22.599Z"
   },
   {
    "duration": 402,
    "start_time": "2023-04-30T18:05:48.758Z"
   },
   {
    "duration": 447,
    "start_time": "2023-04-30T18:13:22.468Z"
   },
   {
    "duration": 418,
    "start_time": "2023-04-30T18:18:31.398Z"
   },
   {
    "duration": 423,
    "start_time": "2023-04-30T18:20:56.769Z"
   },
   {
    "duration": 407,
    "start_time": "2023-04-30T18:50:10.778Z"
   },
   {
    "duration": 2336,
    "start_time": "2023-04-30T18:55:47.705Z"
   },
   {
    "duration": 6966,
    "start_time": "2023-04-30T18:55:50.044Z"
   },
   {
    "duration": 22914,
    "start_time": "2023-04-30T18:55:57.013Z"
   },
   {
    "duration": 5064,
    "start_time": "2023-04-30T18:56:19.930Z"
   },
   {
    "duration": 5694,
    "start_time": "2023-04-30T18:56:24.997Z"
   },
   {
    "duration": 471,
    "start_time": "2023-04-30T18:56:30.695Z"
   },
   {
    "duration": 2407,
    "start_time": "2023-04-30T18:58:05.646Z"
   },
   {
    "duration": 12520,
    "start_time": "2023-04-30T18:58:08.055Z"
   },
   {
    "duration": 34239,
    "start_time": "2023-04-30T18:58:20.577Z"
   },
   {
    "duration": 8671,
    "start_time": "2023-04-30T18:58:54.819Z"
   },
   {
    "duration": 10897,
    "start_time": "2023-04-30T18:59:03.492Z"
   },
   {
    "duration": 474,
    "start_time": "2023-04-30T18:59:14.391Z"
   },
   {
    "duration": 335,
    "start_time": "2023-04-30T19:11:59.041Z"
   },
   {
    "duration": 282,
    "start_time": "2023-04-30T19:13:06.998Z"
   },
   {
    "duration": 294,
    "start_time": "2023-04-30T19:13:32.430Z"
   },
   {
    "duration": 284,
    "start_time": "2023-04-30T19:14:09.193Z"
   },
   {
    "duration": 285,
    "start_time": "2023-04-30T19:14:23.448Z"
   },
   {
    "duration": 291,
    "start_time": "2023-04-30T19:16:29.960Z"
   },
   {
    "duration": 84,
    "start_time": "2023-04-30T19:19:50.995Z"
   },
   {
    "duration": 82,
    "start_time": "2023-04-30T19:21:51.931Z"
   },
   {
    "duration": 114,
    "start_time": "2023-04-30T19:22:51.291Z"
   },
   {
    "duration": 79,
    "start_time": "2023-04-30T19:23:29.182Z"
   },
   {
    "duration": 371,
    "start_time": "2023-04-30T19:24:24.128Z"
   },
   {
    "duration": 512,
    "start_time": "2023-04-30T19:26:34.233Z"
   },
   {
    "duration": 589,
    "start_time": "2023-04-30T19:27:49.575Z"
   },
   {
    "duration": 2905,
    "start_time": "2023-04-30T19:29:56.695Z"
   },
   {
    "duration": 8314,
    "start_time": "2023-04-30T19:33:03.203Z"
   },
   {
    "duration": 9228,
    "start_time": "2023-04-30T19:42:02.745Z"
   },
   {
    "duration": 8337,
    "start_time": "2023-04-30T19:45:12.642Z"
   },
   {
    "duration": 9318,
    "start_time": "2023-04-30T19:47:13.678Z"
   },
   {
    "duration": 2456,
    "start_time": "2023-04-30T19:49:37.245Z"
   },
   {
    "duration": 12784,
    "start_time": "2023-04-30T19:49:39.703Z"
   },
   {
    "duration": 34002,
    "start_time": "2023-04-30T19:49:52.489Z"
   },
   {
    "duration": 75,
    "start_time": "2023-04-30T19:50:26.494Z"
   },
   {
    "duration": 0,
    "start_time": "2023-04-30T19:50:26.571Z"
   },
   {
    "duration": 0,
    "start_time": "2023-04-30T19:50:26.572Z"
   },
   {
    "duration": 2469,
    "start_time": "2023-04-30T19:54:43.782Z"
   },
   {
    "duration": 12592,
    "start_time": "2023-04-30T19:54:46.253Z"
   },
   {
    "duration": 35538,
    "start_time": "2023-04-30T19:54:58.847Z"
   },
   {
    "duration": 8811,
    "start_time": "2023-04-30T19:55:34.389Z"
   },
   {
    "duration": 11399,
    "start_time": "2023-04-30T19:55:43.290Z"
   },
   {
    "duration": 9404,
    "start_time": "2023-04-30T19:55:54.692Z"
   },
   {
    "duration": 8193,
    "start_time": "2023-04-30T19:56:07.496Z"
   },
   {
    "duration": 10513,
    "start_time": "2023-04-30T19:56:30.086Z"
   },
   {
    "duration": 8628,
    "start_time": "2023-04-30T19:56:55.369Z"
   },
   {
    "duration": 8504,
    "start_time": "2023-04-30T19:57:25.100Z"
   },
   {
    "duration": 8516,
    "start_time": "2023-04-30T19:58:54.974Z"
   },
   {
    "duration": 8500,
    "start_time": "2023-04-30T19:59:20.772Z"
   },
   {
    "duration": 10979,
    "start_time": "2023-04-30T19:59:58.323Z"
   },
   {
    "duration": 8260,
    "start_time": "2023-04-30T20:00:17.137Z"
   },
   {
    "duration": 8014,
    "start_time": "2023-04-30T20:08:30.679Z"
   },
   {
    "duration": 3156,
    "start_time": "2023-04-30T21:05:59.812Z"
   },
   {
    "duration": 7295,
    "start_time": "2023-04-30T21:21:41.610Z"
   },
   {
    "duration": 2455,
    "start_time": "2023-04-30T21:23:11.158Z"
   },
   {
    "duration": 13803,
    "start_time": "2023-04-30T21:23:13.616Z"
   },
   {
    "duration": 36662,
    "start_time": "2023-04-30T21:23:27.421Z"
   },
   {
    "duration": 8599,
    "start_time": "2023-04-30T21:24:04.089Z"
   },
   {
    "duration": 10922,
    "start_time": "2023-04-30T21:24:12.696Z"
   },
   {
    "duration": 8692,
    "start_time": "2023-04-30T21:24:23.621Z"
   },
   {
    "duration": 7097,
    "start_time": "2023-04-30T21:24:32.315Z"
   },
   {
    "duration": 54,
    "start_time": "2023-04-30T23:50:23.240Z"
   },
   {
    "duration": 55,
    "start_time": "2023-04-30T23:50:40.838Z"
   },
   {
    "duration": 54,
    "start_time": "2023-04-30T23:50:48.934Z"
   },
   {
    "duration": 2220,
    "start_time": "2023-04-30T23:53:11.891Z"
   },
   {
    "duration": 1018,
    "start_time": "2023-04-30T23:54:32.863Z"
   },
   {
    "duration": 181,
    "start_time": "2023-04-30T23:56:28.436Z"
   },
   {
    "duration": 10,
    "start_time": "2023-04-30T23:56:42.835Z"
   },
   {
    "duration": 987,
    "start_time": "2023-04-30T23:56:58.136Z"
   },
   {
    "duration": 995,
    "start_time": "2023-05-01T00:03:33.341Z"
   },
   {
    "duration": 2186,
    "start_time": "2023-05-01T00:06:33.034Z"
   },
   {
    "duration": 10706,
    "start_time": "2023-05-01T00:06:35.222Z"
   },
   {
    "duration": 30210,
    "start_time": "2023-05-01T00:06:45.929Z"
   },
   {
    "duration": 7602,
    "start_time": "2023-05-01T00:07:16.140Z"
   },
   {
    "duration": 9701,
    "start_time": "2023-05-01T00:07:23.744Z"
   },
   {
    "duration": 7869,
    "start_time": "2023-05-01T00:07:33.447Z"
   },
   {
    "duration": 6517,
    "start_time": "2023-05-01T00:07:41.318Z"
   },
   {
    "duration": 2505,
    "start_time": "2023-05-01T12:04:00.555Z"
   },
   {
    "duration": 134,
    "start_time": "2023-05-01T12:04:59.644Z"
   },
   {
    "duration": 1673,
    "start_time": "2023-05-01T12:05:18.520Z"
   },
   {
    "duration": 1638,
    "start_time": "2023-05-01T12:05:34.382Z"
   },
   {
    "duration": 1745,
    "start_time": "2023-05-01T12:05:46.250Z"
   },
   {
    "duration": 377,
    "start_time": "2023-05-01T12:06:52.950Z"
   },
   {
    "duration": 1793,
    "start_time": "2023-05-01T12:06:58.049Z"
   },
   {
    "duration": 2022,
    "start_time": "2023-05-01T12:07:19.244Z"
   },
   {
    "duration": 388,
    "start_time": "2023-05-01T12:15:19.680Z"
   },
   {
    "duration": 429,
    "start_time": "2023-05-01T12:16:57.494Z"
   },
   {
    "duration": 2012,
    "start_time": "2023-05-01T12:17:05.838Z"
   },
   {
    "duration": 9,
    "start_time": "2023-05-01T12:19:17.108Z"
   },
   {
    "duration": 4,
    "start_time": "2023-05-01T12:19:19.350Z"
   },
   {
    "duration": 38,
    "start_time": "2023-05-01T12:19:19.790Z"
   },
   {
    "duration": 97,
    "start_time": "2023-05-01T12:19:35.726Z"
   },
   {
    "duration": 3073,
    "start_time": "2023-05-01T12:19:42.729Z"
   },
   {
    "duration": 3152,
    "start_time": "2023-05-01T12:19:52.403Z"
   },
   {
    "duration": 2067,
    "start_time": "2023-05-01T12:20:08.451Z"
   },
   {
    "duration": 466,
    "start_time": "2023-05-01T12:22:17.332Z"
   },
   {
    "duration": 5,
    "start_time": "2023-05-01T12:22:25.116Z"
   },
   {
    "duration": 111,
    "start_time": "2023-05-01T12:22:25.531Z"
   },
   {
    "duration": 2211,
    "start_time": "2023-05-01T12:22:25.924Z"
   },
   {
    "duration": 1391,
    "start_time": "2023-05-01T21:23:26.903Z"
   },
   {
    "duration": 7,
    "start_time": "2023-05-01T21:23:28.296Z"
   },
   {
    "duration": 23,
    "start_time": "2023-05-01T21:23:28.304Z"
   },
   {
    "duration": 13,
    "start_time": "2023-05-01T21:23:28.330Z"
   },
   {
    "duration": 18,
    "start_time": "2023-05-01T21:23:28.345Z"
   },
   {
    "duration": 30,
    "start_time": "2023-05-01T21:23:28.365Z"
   },
   {
    "duration": 1077,
    "start_time": "2023-05-01T21:23:28.397Z"
   },
   {
    "duration": 11228,
    "start_time": "2023-05-01T21:23:29.476Z"
   },
   {
    "duration": 29542,
    "start_time": "2023-05-01T21:23:40.706Z"
   },
   {
    "duration": 6789,
    "start_time": "2023-05-01T21:24:10.250Z"
   },
   {
    "duration": 9983,
    "start_time": "2023-05-01T21:24:17.042Z"
   },
   {
    "duration": 8607,
    "start_time": "2023-05-01T21:24:27.027Z"
   },
   {
    "duration": 6969,
    "start_time": "2023-05-01T21:24:35.636Z"
   },
   {
    "duration": 5636,
    "start_time": "2023-05-01T21:24:42.606Z"
   },
   {
    "duration": 882,
    "start_time": "2023-05-01T21:46:05.147Z"
   },
   {
    "duration": 1101,
    "start_time": "2023-05-01T22:05:04.236Z"
   },
   {
    "duration": 6,
    "start_time": "2023-05-01T22:05:05.338Z"
   },
   {
    "duration": 18,
    "start_time": "2023-05-01T22:05:05.346Z"
   },
   {
    "duration": 11,
    "start_time": "2023-05-01T22:05:05.367Z"
   },
   {
    "duration": 14,
    "start_time": "2023-05-01T22:05:05.379Z"
   },
   {
    "duration": 43,
    "start_time": "2023-05-01T22:05:05.394Z"
   },
   {
    "duration": 21,
    "start_time": "2023-05-01T22:05:05.438Z"
   },
   {
    "duration": 569,
    "start_time": "2023-05-01T22:05:05.460Z"
   },
   {
    "duration": 2952,
    "start_time": "2023-05-01T22:05:06.031Z"
   },
   {
    "duration": 155,
    "start_time": "2023-05-01T22:05:08.986Z"
   },
   {
    "duration": 732,
    "start_time": "2023-05-01T22:05:09.143Z"
   },
   {
    "duration": 160,
    "start_time": "2023-05-01T22:05:09.877Z"
   },
   {
    "duration": 766,
    "start_time": "2023-05-01T22:05:10.039Z"
   },
   {
    "duration": 227,
    "start_time": "2023-05-01T22:05:10.807Z"
   },
   {
    "duration": 34483,
    "start_time": "2023-05-01T22:24:05.841Z"
   },
   {
    "duration": 2999,
    "start_time": "2023-05-01T22:32:55.730Z"
   },
   {
    "duration": 1081,
    "start_time": "2023-05-01T22:33:47.944Z"
   },
   {
    "duration": 6,
    "start_time": "2023-05-01T22:33:49.027Z"
   },
   {
    "duration": 16,
    "start_time": "2023-05-01T22:33:49.034Z"
   },
   {
    "duration": 10,
    "start_time": "2023-05-01T22:33:49.052Z"
   },
   {
    "duration": 14,
    "start_time": "2023-05-01T22:33:49.063Z"
   },
   {
    "duration": 23,
    "start_time": "2023-05-01T22:33:49.078Z"
   },
   {
    "duration": 43,
    "start_time": "2023-05-01T22:33:49.103Z"
   },
   {
    "duration": 560,
    "start_time": "2023-05-01T22:33:49.147Z"
   },
   {
    "duration": 33371,
    "start_time": "2023-05-01T22:33:49.709Z"
   },
   {
    "duration": 3093,
    "start_time": "2023-05-01T22:34:23.083Z"
   },
   {
    "duration": 256,
    "start_time": "2023-05-01T22:34:26.178Z"
   },
   {
    "duration": 671,
    "start_time": "2023-05-01T22:34:26.436Z"
   },
   {
    "duration": 235,
    "start_time": "2023-05-01T22:34:27.109Z"
   },
   {
    "duration": 660,
    "start_time": "2023-05-01T22:34:27.435Z"
   },
   {
    "duration": 141,
    "start_time": "2023-05-01T22:34:28.097Z"
   },
   {
    "duration": 1038,
    "start_time": "2023-05-01T22:51:06.691Z"
   },
   {
    "duration": 6,
    "start_time": "2023-05-01T22:51:07.730Z"
   },
   {
    "duration": 16,
    "start_time": "2023-05-01T22:51:07.737Z"
   },
   {
    "duration": 10,
    "start_time": "2023-05-01T22:51:07.754Z"
   },
   {
    "duration": 13,
    "start_time": "2023-05-01T22:51:07.765Z"
   },
   {
    "duration": 22,
    "start_time": "2023-05-01T22:51:07.780Z"
   },
   {
    "duration": 367,
    "start_time": "2023-05-01T22:51:07.804Z"
   },
   {
    "duration": 11874,
    "start_time": "2023-05-01T22:51:08.173Z"
   },
   {
    "duration": 323518,
    "start_time": "2023-05-01T22:51:20.049Z"
   },
   {
    "duration": 10442,
    "start_time": "2023-05-01T22:56:43.570Z"
   },
   {
    "duration": 1620,
    "start_time": "2023-05-01T22:56:54.014Z"
   },
   {
    "duration": 11384,
    "start_time": "2023-05-01T22:56:55.640Z"
   },
   {
    "duration": 2109,
    "start_time": "2023-05-01T22:57:07.025Z"
   },
   {
    "duration": 2270,
    "start_time": "2023-05-01T22:57:09.137Z"
   },
   {
    "duration": 926,
    "start_time": "2023-05-01T22:57:11.408Z"
   },
   {
    "duration": 305,
    "start_time": "2023-05-02T01:08:26.575Z"
   },
   {
    "duration": 1744,
    "start_time": "2023-05-02T13:12:50.460Z"
   },
   {
    "duration": 8,
    "start_time": "2023-05-02T13:12:52.207Z"
   },
   {
    "duration": 59,
    "start_time": "2023-05-02T13:12:52.216Z"
   },
   {
    "duration": 40,
    "start_time": "2023-05-02T13:12:52.278Z"
   },
   {
    "duration": 76,
    "start_time": "2023-05-02T13:12:52.322Z"
   },
   {
    "duration": 103,
    "start_time": "2023-05-02T13:12:52.400Z"
   },
   {
    "duration": 602,
    "start_time": "2023-05-02T13:12:52.505Z"
   },
   {
    "duration": 16046,
    "start_time": "2023-05-02T13:12:53.109Z"
   },
   {
    "duration": 444612,
    "start_time": "2023-05-02T13:13:09.160Z"
   },
   {
    "duration": 14710,
    "start_time": "2023-05-02T13:20:33.774Z"
   },
   {
    "duration": 2057,
    "start_time": "2023-05-02T13:20:48.486Z"
   },
   {
    "duration": 16901,
    "start_time": "2023-05-02T13:20:50.550Z"
   },
   {
    "duration": 2985,
    "start_time": "2023-05-02T13:21:07.458Z"
   },
   {
    "duration": 3255,
    "start_time": "2023-05-02T13:21:10.447Z"
   },
   {
    "duration": 1422,
    "start_time": "2023-05-02T13:21:13.705Z"
   },
   {
    "duration": 1241,
    "start_time": "2023-05-02T22:33:15.655Z"
   },
   {
    "duration": 6,
    "start_time": "2023-05-02T22:33:16.898Z"
   },
   {
    "duration": 23,
    "start_time": "2023-05-02T22:33:16.905Z"
   },
   {
    "duration": 11,
    "start_time": "2023-05-02T22:33:16.929Z"
   },
   {
    "duration": 31,
    "start_time": "2023-05-02T22:33:16.941Z"
   },
   {
    "duration": 38,
    "start_time": "2023-05-02T22:33:16.973Z"
   },
   {
    "duration": 365,
    "start_time": "2023-05-02T22:33:17.013Z"
   },
   {
    "duration": 13078,
    "start_time": "2023-05-02T22:33:17.380Z"
   },
   {
    "duration": 300234,
    "start_time": "2023-05-02T22:33:30.460Z"
   },
   {
    "duration": 0,
    "start_time": "2023-05-02T22:38:30.696Z"
   },
   {
    "duration": 0,
    "start_time": "2023-05-02T22:38:30.697Z"
   },
   {
    "duration": 0,
    "start_time": "2023-05-02T22:38:30.698Z"
   },
   {
    "duration": 0,
    "start_time": "2023-05-02T22:38:30.699Z"
   },
   {
    "duration": 0,
    "start_time": "2023-05-02T22:38:30.700Z"
   },
   {
    "duration": 0,
    "start_time": "2023-05-02T22:38:30.702Z"
   },
   {
    "duration": 343422,
    "start_time": "2023-05-02T22:39:46.702Z"
   },
   {
    "duration": 11825,
    "start_time": "2023-05-02T22:47:29.216Z"
   },
   {
    "duration": 114400,
    "start_time": "2023-05-02T22:47:48.676Z"
   },
   {
    "duration": 4423,
    "start_time": "2023-05-02T22:50:48.214Z"
   },
   {
    "duration": 3877,
    "start_time": "2023-05-02T22:55:36.984Z"
   },
   {
    "duration": 3991,
    "start_time": "2023-05-02T22:56:33.645Z"
   },
   {
    "duration": 3841,
    "start_time": "2023-05-02T22:57:56.595Z"
   },
   {
    "duration": 3855,
    "start_time": "2023-05-02T22:58:40.584Z"
   },
   {
    "duration": 3885,
    "start_time": "2023-05-02T22:59:08.451Z"
   },
   {
    "duration": 4219,
    "start_time": "2023-05-02T23:00:02.796Z"
   },
   {
    "duration": 3881,
    "start_time": "2023-05-02T23:02:39.384Z"
   },
   {
    "duration": 3981,
    "start_time": "2023-05-02T23:03:34.887Z"
   },
   {
    "duration": 4074,
    "start_time": "2023-05-02T23:06:14.892Z"
   },
   {
    "duration": 1110,
    "start_time": "2023-05-03T00:22:10.949Z"
   },
   {
    "duration": 5,
    "start_time": "2023-05-03T00:22:12.061Z"
   },
   {
    "duration": 245,
    "start_time": "2023-05-03T00:22:12.067Z"
   },
   {
    "duration": 10,
    "start_time": "2023-05-03T00:22:12.314Z"
   },
   {
    "duration": 23,
    "start_time": "2023-05-03T00:22:12.325Z"
   },
   {
    "duration": 26,
    "start_time": "2023-05-03T00:22:12.349Z"
   },
   {
    "duration": 359,
    "start_time": "2023-05-03T00:22:12.376Z"
   },
   {
    "duration": 12818,
    "start_time": "2023-05-03T00:22:12.736Z"
   },
   {
    "duration": 84703,
    "start_time": "2023-05-03T00:22:25.556Z"
   },
   {
    "duration": 55413,
    "start_time": "2023-05-03T00:23:50.261Z"
   },
   {
    "duration": 3960,
    "start_time": "2023-05-03T00:24:45.676Z"
   },
   {
    "duration": 11901,
    "start_time": "2023-05-03T00:24:49.640Z"
   },
   {
    "duration": 2121,
    "start_time": "2023-05-03T00:25:01.543Z"
   },
   {
    "duration": 2369,
    "start_time": "2023-05-03T00:25:03.735Z"
   },
   {
    "duration": 931,
    "start_time": "2023-05-03T00:25:06.105Z"
   },
   {
    "duration": 3153,
    "start_time": "2023-05-03T00:28:18.384Z"
   },
   {
    "duration": 4480,
    "start_time": "2023-05-03T00:39:03.185Z"
   },
   {
    "duration": 3180,
    "start_time": "2023-05-03T00:39:26.256Z"
   },
   {
    "duration": 4564,
    "start_time": "2023-05-03T00:39:43.671Z"
   },
   {
    "duration": 4510,
    "start_time": "2023-05-03T01:06:54.025Z"
   },
   {
    "duration": 4521,
    "start_time": "2023-05-03T01:07:25.215Z"
   },
   {
    "duration": 503,
    "start_time": "2023-05-03T01:07:45.387Z"
   },
   {
    "duration": 4486,
    "start_time": "2023-05-03T01:08:06.583Z"
   },
   {
    "duration": 86269,
    "start_time": "2023-05-03T01:11:45.875Z"
   },
   {
    "duration": 37098,
    "start_time": "2023-05-03T01:22:45.302Z"
   },
   {
    "duration": 10,
    "start_time": "2023-05-03T01:27:36.848Z"
   },
   {
    "duration": 4457,
    "start_time": "2023-05-03T01:27:52.800Z"
   },
   {
    "duration": 11814,
    "start_time": "2023-05-03T01:27:59.703Z"
   },
   {
    "duration": 85827,
    "start_time": "2023-05-03T01:28:13.042Z"
   },
   {
    "duration": 38023,
    "start_time": "2023-05-03T01:29:43.544Z"
   },
   {
    "duration": 1892,
    "start_time": "2023-05-03T01:30:25.862Z"
   },
   {
    "duration": 5,
    "start_time": "2023-05-03T01:40:16.707Z"
   },
   {
    "duration": 77,
    "start_time": "2023-05-03T01:40:44.947Z"
   },
   {
    "duration": 1156,
    "start_time": "2023-05-03T01:41:45.642Z"
   },
   {
    "duration": 6,
    "start_time": "2023-05-03T01:41:46.800Z"
   },
   {
    "duration": 16,
    "start_time": "2023-05-03T01:41:46.808Z"
   },
   {
    "duration": 13,
    "start_time": "2023-05-03T01:41:46.827Z"
   },
   {
    "duration": 17,
    "start_time": "2023-05-03T01:41:46.842Z"
   },
   {
    "duration": 38,
    "start_time": "2023-05-03T01:41:46.860Z"
   },
   {
    "duration": 399,
    "start_time": "2023-05-03T01:41:46.899Z"
   },
   {
    "duration": 12969,
    "start_time": "2023-05-03T01:41:47.300Z"
   },
   {
    "duration": 86130,
    "start_time": "2023-05-03T01:42:00.271Z"
   },
   {
    "duration": 56808,
    "start_time": "2023-05-03T01:43:26.403Z"
   },
   {
    "duration": 4444,
    "start_time": "2023-05-03T01:44:23.213Z"
   },
   {
    "duration": 11860,
    "start_time": "2023-05-03T01:44:27.660Z"
   },
   {
    "duration": 87974,
    "start_time": "2023-05-03T01:44:39.522Z"
   },
   {
    "duration": 37554,
    "start_time": "2023-05-03T01:46:07.497Z"
   },
   {
    "duration": 2102,
    "start_time": "2023-05-03T01:46:45.053Z"
   },
   {
    "duration": 325,
    "start_time": "2023-05-03T01:46:47.158Z"
   },
   {
    "duration": 886,
    "start_time": "2023-05-03T01:46:47.485Z"
   },
   {
    "duration": 11775,
    "start_time": "2023-05-03T01:51:32.268Z"
   },
   {
    "duration": 11990,
    "start_time": "2023-05-03T01:52:42.759Z"
   },
   {
    "duration": 54,
    "start_time": "2023-05-03T01:54:51.923Z"
   },
   {
    "duration": 49,
    "start_time": "2023-05-03T01:54:56.054Z"
   },
   {
    "duration": 1377,
    "start_time": "2023-05-03T01:55:43.959Z"
   },
   {
    "duration": 406,
    "start_time": "2023-05-03T02:27:34.423Z"
   },
   {
    "duration": 1239,
    "start_time": "2023-05-04T00:45:20.891Z"
   },
   {
    "duration": 7,
    "start_time": "2023-05-04T00:45:22.131Z"
   },
   {
    "duration": 45,
    "start_time": "2023-05-04T00:45:22.139Z"
   },
   {
    "duration": 34,
    "start_time": "2023-05-04T00:45:22.186Z"
   },
   {
    "duration": 24,
    "start_time": "2023-05-04T00:45:22.221Z"
   },
   {
    "duration": 27,
    "start_time": "2023-05-04T00:45:22.247Z"
   },
   {
    "duration": 426,
    "start_time": "2023-05-04T00:45:22.276Z"
   },
   {
    "duration": 14762,
    "start_time": "2023-05-04T00:45:22.703Z"
   },
   {
    "duration": 87311,
    "start_time": "2023-05-04T00:45:37.467Z"
   },
   {
    "duration": 56943,
    "start_time": "2023-05-04T00:47:04.781Z"
   },
   {
    "duration": 4409,
    "start_time": "2023-05-04T00:48:01.725Z"
   },
   {
    "duration": 11873,
    "start_time": "2023-05-04T00:48:06.137Z"
   },
   {
    "duration": 85340,
    "start_time": "2023-05-04T00:48:18.012Z"
   },
   {
    "duration": 37837,
    "start_time": "2023-05-04T00:49:43.353Z"
   },
   {
    "duration": 2144,
    "start_time": "2023-05-04T00:50:21.191Z"
   },
   {
    "duration": 12114,
    "start_time": "2023-05-04T00:50:23.337Z"
   },
   {
    "duration": 1398,
    "start_time": "2023-05-04T00:50:35.539Z"
   },
   {
    "duration": 452,
    "start_time": "2023-05-04T00:50:36.939Z"
   },
   {
    "duration": 334,
    "start_time": "2023-05-04T01:08:30.145Z"
   },
   {
    "duration": 327,
    "start_time": "2023-05-04T01:08:51.224Z"
   },
   {
    "duration": 375,
    "start_time": "2023-05-04T01:09:33.046Z"
   },
   {
    "duration": 64,
    "start_time": "2023-05-04T01:10:51.251Z"
   },
   {
    "duration": 105,
    "start_time": "2023-05-04T01:11:15.735Z"
   },
   {
    "duration": 339,
    "start_time": "2023-05-04T01:11:37.695Z"
   },
   {
    "duration": 340,
    "start_time": "2023-05-04T01:11:45.690Z"
   },
   {
    "duration": 1064,
    "start_time": "2023-05-04T01:23:05.555Z"
   },
   {
    "duration": 5,
    "start_time": "2023-05-04T01:23:06.621Z"
   },
   {
    "duration": 20,
    "start_time": "2023-05-04T01:23:06.627Z"
   },
   {
    "duration": 24,
    "start_time": "2023-05-04T01:23:06.648Z"
   },
   {
    "duration": 19,
    "start_time": "2023-05-04T01:23:06.674Z"
   },
   {
    "duration": 25,
    "start_time": "2023-05-04T01:23:06.695Z"
   },
   {
    "duration": 348,
    "start_time": "2023-05-04T01:23:06.721Z"
   },
   {
    "duration": 12258,
    "start_time": "2023-05-04T01:23:07.071Z"
   },
   {
    "duration": 84766,
    "start_time": "2023-05-04T01:23:19.331Z"
   },
   {
    "duration": 56693,
    "start_time": "2023-05-04T01:24:44.099Z"
   },
   {
    "duration": 4341,
    "start_time": "2023-05-04T01:25:40.794Z"
   },
   {
    "duration": 12218,
    "start_time": "2023-05-04T01:25:45.137Z"
   },
   {
    "duration": 84704,
    "start_time": "2023-05-04T01:25:57.357Z"
   },
   {
    "duration": 38221,
    "start_time": "2023-05-04T01:27:22.063Z"
   },
   {
    "duration": 2151,
    "start_time": "2023-05-04T01:28:00.286Z"
   },
   {
    "duration": 11793,
    "start_time": "2023-05-04T01:28:02.442Z"
   },
   {
    "duration": 1425,
    "start_time": "2023-05-04T01:28:14.238Z"
   },
   {
    "duration": 539,
    "start_time": "2023-05-04T01:28:15.664Z"
   },
   {
    "duration": 1202,
    "start_time": "2023-05-04T20:46:44.126Z"
   },
   {
    "duration": 6,
    "start_time": "2023-05-04T20:46:45.329Z"
   },
   {
    "duration": 24,
    "start_time": "2023-05-04T20:46:45.337Z"
   },
   {
    "duration": 13,
    "start_time": "2023-05-04T20:46:45.362Z"
   },
   {
    "duration": 15,
    "start_time": "2023-05-04T20:46:45.376Z"
   },
   {
    "duration": 29,
    "start_time": "2023-05-04T20:46:45.392Z"
   },
   {
    "duration": 388,
    "start_time": "2023-05-04T20:46:45.423Z"
   },
   {
    "duration": 14062,
    "start_time": "2023-05-04T20:46:45.813Z"
   },
   {
    "duration": 95725,
    "start_time": "2023-05-04T20:46:59.876Z"
   },
   {
    "duration": 63165,
    "start_time": "2023-05-04T20:48:35.602Z"
   },
   {
    "duration": 4837,
    "start_time": "2023-05-04T20:49:38.768Z"
   },
   {
    "duration": 13073,
    "start_time": "2023-05-04T20:49:43.608Z"
   },
   {
    "duration": 93972,
    "start_time": "2023-05-04T20:49:56.683Z"
   },
   {
    "duration": 40262,
    "start_time": "2023-05-04T20:51:30.658Z"
   },
   {
    "duration": 2164,
    "start_time": "2023-05-04T20:52:10.922Z"
   },
   {
    "duration": 12597,
    "start_time": "2023-05-04T20:52:13.089Z"
   },
   {
    "duration": 1697,
    "start_time": "2023-05-04T20:52:25.688Z"
   },
   {
    "duration": 426,
    "start_time": "2023-05-04T20:52:27.387Z"
   },
   {
    "duration": 151,
    "start_time": "2023-05-04T21:10:46.794Z"
   },
   {
    "duration": 374,
    "start_time": "2023-05-04T21:10:53.126Z"
   },
   {
    "duration": 74,
    "start_time": "2023-05-04T21:50:26.590Z"
   },
   {
    "duration": 1197,
    "start_time": "2023-05-04T21:56:54.378Z"
   },
   {
    "duration": 6,
    "start_time": "2023-05-04T21:56:55.577Z"
   },
   {
    "duration": 27,
    "start_time": "2023-05-04T21:56:55.585Z"
   },
   {
    "duration": 12,
    "start_time": "2023-05-04T21:56:55.614Z"
   },
   {
    "duration": 16,
    "start_time": "2023-05-04T21:56:55.628Z"
   },
   {
    "duration": 57,
    "start_time": "2023-05-04T21:56:55.646Z"
   },
   {
    "duration": 383,
    "start_time": "2023-05-04T21:56:55.705Z"
   },
   {
    "duration": 13285,
    "start_time": "2023-05-04T21:56:56.089Z"
   },
   {
    "duration": 90705,
    "start_time": "2023-05-04T21:57:09.376Z"
   },
   {
    "duration": 59893,
    "start_time": "2023-05-04T21:58:40.084Z"
   },
   {
    "duration": 4806,
    "start_time": "2023-05-04T21:59:39.980Z"
   },
   {
    "duration": 12648,
    "start_time": "2023-05-04T21:59:44.789Z"
   },
   {
    "duration": 91169,
    "start_time": "2023-05-04T21:59:57.439Z"
   },
   {
    "duration": 39848,
    "start_time": "2023-05-04T22:01:28.610Z"
   },
   {
    "duration": 2126,
    "start_time": "2023-05-04T22:02:08.460Z"
   },
   {
    "duration": 12398,
    "start_time": "2023-05-04T22:02:10.588Z"
   },
   {
    "duration": 1600,
    "start_time": "2023-05-04T22:02:22.989Z"
   },
   {
    "duration": 381,
    "start_time": "2023-05-04T22:02:24.684Z"
   },
   {
    "duration": 1468,
    "start_time": "2023-05-05T14:47:32.116Z"
   },
   {
    "duration": 7,
    "start_time": "2023-05-05T14:47:33.586Z"
   },
   {
    "duration": 34,
    "start_time": "2023-05-05T14:47:33.594Z"
   },
   {
    "duration": 24,
    "start_time": "2023-05-05T14:47:33.630Z"
   },
   {
    "duration": 17,
    "start_time": "2023-05-05T14:47:33.656Z"
   },
   {
    "duration": 42,
    "start_time": "2023-05-05T14:47:33.675Z"
   },
   {
    "duration": 13,
    "start_time": "2023-05-05T14:47:33.719Z"
   },
   {
    "duration": 77,
    "start_time": "2023-05-05T14:47:33.734Z"
   },
   {
    "duration": 764,
    "start_time": "2023-05-05T14:47:33.813Z"
   },
   {
    "duration": 9610,
    "start_time": "2023-05-05T14:47:34.580Z"
   },
   {
    "duration": 16657,
    "start_time": "2023-05-05T14:47:44.192Z"
   },
   {
    "duration": 570,
    "start_time": "2023-05-05T14:48:00.851Z"
   },
   {
    "duration": 921,
    "start_time": "2023-05-05T14:48:01.424Z"
   },
   {
    "duration": 9510,
    "start_time": "2023-05-05T14:48:02.347Z"
   },
   {
    "duration": 9333,
    "start_time": "2023-05-05T14:48:11.859Z"
   },
   {
    "duration": 332,
    "start_time": "2023-05-05T14:48:21.194Z"
   },
   {
    "duration": 1098,
    "start_time": "2023-05-05T14:48:21.529Z"
   },
   {
    "duration": 494,
    "start_time": "2023-05-05T14:48:22.629Z"
   },
   {
    "duration": 115,
    "start_time": "2023-05-05T14:48:23.125Z"
   },
   {
    "duration": 1263,
    "start_time": "2023-05-05T14:54:08.987Z"
   },
   {
    "duration": 7,
    "start_time": "2023-05-05T14:54:10.253Z"
   },
   {
    "duration": 50,
    "start_time": "2023-05-05T14:54:10.262Z"
   },
   {
    "duration": 24,
    "start_time": "2023-05-05T14:54:10.315Z"
   },
   {
    "duration": 46,
    "start_time": "2023-05-05T14:54:10.340Z"
   },
   {
    "duration": 45,
    "start_time": "2023-05-05T14:54:10.388Z"
   },
   {
    "duration": 28,
    "start_time": "2023-05-05T14:54:10.435Z"
   },
   {
    "duration": 66,
    "start_time": "2023-05-05T14:54:10.465Z"
   },
   {
    "duration": 831,
    "start_time": "2023-05-05T14:54:10.533Z"
   },
   {
    "duration": 9397,
    "start_time": "2023-05-05T14:54:11.368Z"
   },
   {
    "duration": 17626,
    "start_time": "2023-05-05T14:54:20.766Z"
   },
   {
    "duration": 427,
    "start_time": "2023-05-05T14:54:38.395Z"
   },
   {
    "duration": 925,
    "start_time": "2023-05-05T14:54:38.824Z"
   },
   {
    "duration": 9757,
    "start_time": "2023-05-05T14:54:39.751Z"
   },
   {
    "duration": 9422,
    "start_time": "2023-05-05T14:54:49.510Z"
   },
   {
    "duration": 384,
    "start_time": "2023-05-05T14:54:58.935Z"
   },
   {
    "duration": 518,
    "start_time": "2023-05-05T14:54:59.322Z"
   },
   {
    "duration": 309,
    "start_time": "2023-05-05T14:54:59.924Z"
   },
   {
    "duration": 111,
    "start_time": "2023-05-05T14:55:00.318Z"
   },
   {
    "duration": 74,
    "start_time": "2023-05-05T22:57:38.489Z"
   },
   {
    "duration": 1458,
    "start_time": "2023-05-05T22:57:55.543Z"
   },
   {
    "duration": 19,
    "start_time": "2023-05-05T22:57:57.004Z"
   },
   {
    "duration": 23,
    "start_time": "2023-05-05T22:57:57.032Z"
   },
   {
    "duration": 13,
    "start_time": "2023-05-05T22:57:57.057Z"
   },
   {
    "duration": 27,
    "start_time": "2023-05-05T22:57:57.072Z"
   },
   {
    "duration": 50,
    "start_time": "2023-05-05T22:57:57.100Z"
   },
   {
    "duration": 16,
    "start_time": "2023-05-05T22:57:57.155Z"
   },
   {
    "duration": 65,
    "start_time": "2023-05-05T22:57:57.173Z"
   },
   {
    "duration": 888,
    "start_time": "2023-05-05T22:57:57.240Z"
   },
   {
    "duration": 10614,
    "start_time": "2023-05-05T22:57:58.135Z"
   },
   {
    "duration": 18240,
    "start_time": "2023-05-05T22:58:08.755Z"
   },
   {
    "duration": 543,
    "start_time": "2023-05-05T22:58:26.997Z"
   },
   {
    "duration": 1042,
    "start_time": "2023-05-05T22:58:27.547Z"
   },
   {
    "duration": 10933,
    "start_time": "2023-05-05T22:58:28.591Z"
   },
   {
    "duration": 10309,
    "start_time": "2023-05-05T22:58:39.530Z"
   },
   {
    "duration": 387,
    "start_time": "2023-05-05T22:58:49.848Z"
   },
   {
    "duration": 614,
    "start_time": "2023-05-05T22:58:50.237Z"
   },
   {
    "duration": 1291,
    "start_time": "2023-05-05T22:58:50.857Z"
   },
   {
    "duration": 14446,
    "start_time": "2023-05-05T22:58:52.150Z"
   },
   {
    "duration": 230,
    "start_time": "2023-05-05T22:59:06.598Z"
   },
   {
    "duration": 300,
    "start_time": "2023-05-05T22:59:06.837Z"
   },
   {
    "duration": 0,
    "start_time": "2023-05-05T22:59:07.142Z"
   },
   {
    "duration": 13,
    "start_time": "2023-05-05T23:00:18.129Z"
   },
   {
    "duration": 16,
    "start_time": "2023-05-05T23:00:20.440Z"
   },
   {
    "duration": 595,
    "start_time": "2023-05-05T23:45:16.463Z"
   },
   {
    "duration": 13371,
    "start_time": "2023-05-05T23:48:10.745Z"
   },
   {
    "duration": 408,
    "start_time": "2023-05-05T23:50:04.110Z"
   },
   {
    "duration": 395,
    "start_time": "2023-05-05T23:52:04.873Z"
   },
   {
    "duration": 4658,
    "start_time": "2023-05-05T23:52:33.358Z"
   },
   {
    "duration": 2925,
    "start_time": "2023-05-05T23:53:14.151Z"
   },
   {
    "duration": 289,
    "start_time": "2023-05-05T23:54:28.926Z"
   },
   {
    "duration": 1224,
    "start_time": "2023-05-05T23:57:26.781Z"
   },
   {
    "duration": 6,
    "start_time": "2023-05-05T23:57:28.007Z"
   },
   {
    "duration": 29,
    "start_time": "2023-05-05T23:57:28.015Z"
   },
   {
    "duration": 12,
    "start_time": "2023-05-05T23:57:28.047Z"
   },
   {
    "duration": 39,
    "start_time": "2023-05-05T23:57:28.061Z"
   },
   {
    "duration": 60,
    "start_time": "2023-05-05T23:57:28.102Z"
   },
   {
    "duration": 17,
    "start_time": "2023-05-05T23:57:28.164Z"
   },
   {
    "duration": 76,
    "start_time": "2023-05-05T23:57:28.183Z"
   },
   {
    "duration": 812,
    "start_time": "2023-05-05T23:57:28.261Z"
   },
   {
    "duration": 9265,
    "start_time": "2023-05-05T23:57:29.076Z"
   },
   {
    "duration": 16288,
    "start_time": "2023-05-05T23:57:38.343Z"
   },
   {
    "duration": 288,
    "start_time": "2023-05-05T23:57:54.633Z"
   },
   {
    "duration": 963,
    "start_time": "2023-05-05T23:57:54.923Z"
   },
   {
    "duration": 9196,
    "start_time": "2023-05-05T23:57:55.888Z"
   },
   {
    "duration": 8905,
    "start_time": "2023-05-05T23:58:05.086Z"
   },
   {
    "duration": 329,
    "start_time": "2023-05-05T23:58:13.993Z"
   },
   {
    "duration": 188,
    "start_time": "2023-05-05T23:58:14.327Z"
   },
   {
    "duration": 935,
    "start_time": "2023-05-05T23:58:14.516Z"
   },
   {
    "duration": 12377,
    "start_time": "2023-05-05T23:58:15.453Z"
   },
   {
    "duration": 13873,
    "start_time": "2023-05-05T23:58:27.832Z"
   },
   {
    "duration": 414,
    "start_time": "2023-05-05T23:58:41.706Z"
   },
   {
    "duration": 190,
    "start_time": "2023-05-05T23:58:42.122Z"
   },
   {
    "duration": 399,
    "start_time": "2023-05-05T23:58:42.313Z"
   },
   {
    "duration": 4826,
    "start_time": "2023-05-05T23:58:42.715Z"
   },
   {
    "duration": 3045,
    "start_time": "2023-05-05T23:58:47.542Z"
   },
   {
    "duration": 227,
    "start_time": "2023-05-05T23:58:50.589Z"
   },
   {
    "duration": 119,
    "start_time": "2023-05-05T23:58:50.818Z"
   },
   {
    "duration": 205,
    "start_time": "2023-05-06T00:29:26.031Z"
   },
   {
    "duration": 263,
    "start_time": "2023-05-06T00:31:48.927Z"
   },
   {
    "duration": 143,
    "start_time": "2023-05-06T00:38:30.720Z"
   },
   {
    "duration": 355,
    "start_time": "2023-05-06T00:38:40.052Z"
   },
   {
    "duration": 270,
    "start_time": "2023-05-06T00:39:21.392Z"
   },
   {
    "duration": 72,
    "start_time": "2023-05-06T00:42:04.581Z"
   },
   {
    "duration": 79,
    "start_time": "2023-05-06T00:42:18.834Z"
   },
   {
    "duration": 285,
    "start_time": "2023-05-06T00:42:24.299Z"
   },
   {
    "duration": 273,
    "start_time": "2023-05-06T00:42:55.089Z"
   },
   {
    "duration": 78,
    "start_time": "2023-05-06T00:45:22.672Z"
   },
   {
    "duration": 1187,
    "start_time": "2023-05-06T00:45:42.200Z"
   },
   {
    "duration": 8,
    "start_time": "2023-05-06T00:45:43.390Z"
   },
   {
    "duration": 21,
    "start_time": "2023-05-06T00:45:43.400Z"
   },
   {
    "duration": 12,
    "start_time": "2023-05-06T00:45:43.424Z"
   },
   {
    "duration": 15,
    "start_time": "2023-05-06T00:45:43.438Z"
   },
   {
    "duration": 37,
    "start_time": "2023-05-06T00:45:43.455Z"
   },
   {
    "duration": 14,
    "start_time": "2023-05-06T00:45:43.513Z"
   },
   {
    "duration": 45,
    "start_time": "2023-05-06T00:45:43.529Z"
   },
   {
    "duration": 786,
    "start_time": "2023-05-06T00:45:43.575Z"
   },
   {
    "duration": 8832,
    "start_time": "2023-05-06T00:45:44.364Z"
   },
   {
    "duration": 15514,
    "start_time": "2023-05-06T00:45:53.198Z"
   },
   {
    "duration": 305,
    "start_time": "2023-05-06T00:46:08.713Z"
   },
   {
    "duration": 856,
    "start_time": "2023-05-06T00:46:09.111Z"
   },
   {
    "duration": 8781,
    "start_time": "2023-05-06T00:46:09.969Z"
   },
   {
    "duration": 8656,
    "start_time": "2023-05-06T00:46:18.752Z"
   },
   {
    "duration": 501,
    "start_time": "2023-05-06T00:46:27.410Z"
   },
   {
    "duration": 107,
    "start_time": "2023-05-06T00:46:27.915Z"
   },
   {
    "duration": 955,
    "start_time": "2023-05-06T00:46:28.024Z"
   },
   {
    "duration": 12052,
    "start_time": "2023-05-06T00:46:28.981Z"
   },
   {
    "duration": 13614,
    "start_time": "2023-05-06T00:46:41.035Z"
   },
   {
    "duration": 466,
    "start_time": "2023-05-06T00:46:54.651Z"
   },
   {
    "duration": 195,
    "start_time": "2023-05-06T00:46:55.118Z"
   },
   {
    "duration": 374,
    "start_time": "2023-05-06T00:46:55.315Z"
   },
   {
    "duration": 4765,
    "start_time": "2023-05-06T00:46:55.690Z"
   },
   {
    "duration": 2972,
    "start_time": "2023-05-06T00:47:00.458Z"
   },
   {
    "duration": 189,
    "start_time": "2023-05-06T00:47:03.431Z"
   },
   {
    "duration": 378,
    "start_time": "2023-05-06T00:47:03.624Z"
   }
  ],
  "kernelspec": {
   "display_name": "Python 3 (ipykernel)",
   "language": "python",
   "name": "python3"
  },
  "language_info": {
   "codemirror_mode": {
    "name": "ipython",
    "version": 3
   },
   "file_extension": ".py",
   "mimetype": "text/x-python",
   "name": "python",
   "nbconvert_exporter": "python",
   "pygments_lexer": "ipython3",
   "version": "3.9.5"
  },
  "toc": {
   "base_numbering": 1,
   "nav_menu": {},
   "number_sections": true,
   "sideBar": true,
   "skip_h1_title": true,
   "title_cell": "Содержание",
   "title_sidebar": "Contents",
   "toc_cell": true,
   "toc_position": {
    "height": "calc(100% - 180px)",
    "left": "10px",
    "top": "150px",
    "width": "165px"
   },
   "toc_section_display": true,
   "toc_window_display": true
  }
 },
 "nbformat": 4,
 "nbformat_minor": 2
}